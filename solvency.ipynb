{
 "cells": [
  {
   "cell_type": "markdown",
   "id": "386f2ae7",
   "metadata": {
    "deletable": false,
    "editable": false,
    "id": "386f2ae7"
   },
   "source": [
    "# Исследование надежности заемщиков\n"
   ]
  },
  {
   "cell_type": "markdown",
   "id": "ffe86f65",
   "metadata": {
    "deletable": false,
    "editable": false,
    "id": "ffe86f65"
   },
   "source": [
    "Во второй части проекта вы выполните шаги 3 и 4. Их вручную проверит ревьюер.\n",
    "Чтобы вам не пришлось писать код заново для шагов 1 и 2, мы добавили авторские решения в ячейки с кодом. \n",
    "\n"
   ]
  },
  {
   "cell_type": "markdown",
   "id": "19c25eea",
   "metadata": {},
   "source": [
    "Оценка влияния различных факторов на платежеспособность заемщика.\n",
    "\n",
    "Цель проекта: \n",
    "\n",
    "определить влияение на факт погашения кредита в срок следующих факторов:\n",
    " - семейное положение,\n",
    " - и количество детей клиента,\n",
    " - уровень дохода,\n",
    " - цель кредита.\n",
    "\n",
    "Входные данные от банка — статистика о платёжеспособности клиентов.\n",
    "\n",
    "\n",
    "Описание данных\n",
    "\n",
    "children — количество детей в семье <br>\n",
    "days_employed — общий трудовой стаж в днях <br>\n",
    "dob_years — возраст клиента в годах <br>\n",
    "education — уровень образования клиента <br>\n",
    "education_id — идентификатор уровня образования <br>\n",
    "family_status — семейное положение <br>\n",
    "family_status_id — идентификатор семейного положения<br>\n",
    "gender — пол клиента<br>\n",
    "income_type — тип занятости<br>\n",
    "debt — имел ли задолженность по возврату кредитов<br>\n",
    "total_income — ежемесячный доход<br>\n",
    "purpose — цель получения кредита"
   ]
  },
  {
   "cell_type": "markdown",
   "id": "26613308",
   "metadata": {
    "deletable": false,
    "editable": false,
    "id": "26613308"
   },
   "source": [
    "## Откройте таблицу и изучите общую информацию о данных"
   ]
  },
  {
   "cell_type": "markdown",
   "id": "3c9f838e",
   "metadata": {
    "deletable": false,
    "editable": false,
    "id": "3c9f838e"
   },
   "source": [
    "**Задание 1. Импортируйте библиотеку pandas. Считайте данные из csv-файла в датафрейм и сохраните в переменную `data`. Путь к файлу:**\n",
    "\n",
    "`/datasets/data.csv`"
   ]
  },
  {
   "cell_type": "code",
   "execution_count": 1,
   "id": "77a68a90",
   "metadata": {
    "deletable": false,
    "id": "77a68a90"
   },
   "outputs": [],
   "source": [
    "import pandas as pd\n"
   ]
  },
  {
   "cell_type": "code",
   "execution_count": 2,
   "id": "805005a5",
   "metadata": {},
   "outputs": [],
   "source": [
    "try:\n",
    "    data = pd.read_csv('/datasets/data.csv')\n",
    "except:\n",
    "    data = pd.read_csv('https://code.s3.yandex.net/datasets/data.csv')"
   ]
  },
  {
   "cell_type": "markdown",
   "id": "45365635",
   "metadata": {
    "deletable": false,
    "editable": false,
    "id": "45365635"
   },
   "source": [
    "**Задание 2. Выведите первые 20 строчек датафрейма `data` на экран.**"
   ]
  },
  {
   "cell_type": "code",
   "execution_count": 3,
   "id": "b0451a9a",
   "metadata": {
    "deletable": false,
    "id": "b0451a9a",
    "outputId": "1a8f3ef2-d323-4ec2-ddf7-89670b5944c4"
   },
   "outputs": [
    {
     "data": {
      "text/html": [
       "<div>\n",
       "<style scoped>\n",
       "    .dataframe tbody tr th:only-of-type {\n",
       "        vertical-align: middle;\n",
       "    }\n",
       "\n",
       "    .dataframe tbody tr th {\n",
       "        vertical-align: top;\n",
       "    }\n",
       "\n",
       "    .dataframe thead th {\n",
       "        text-align: right;\n",
       "    }\n",
       "</style>\n",
       "<table border=\"1\" class=\"dataframe\">\n",
       "  <thead>\n",
       "    <tr style=\"text-align: right;\">\n",
       "      <th></th>\n",
       "      <th>children</th>\n",
       "      <th>days_employed</th>\n",
       "      <th>dob_years</th>\n",
       "      <th>education</th>\n",
       "      <th>education_id</th>\n",
       "      <th>family_status</th>\n",
       "      <th>family_status_id</th>\n",
       "      <th>gender</th>\n",
       "      <th>income_type</th>\n",
       "      <th>debt</th>\n",
       "      <th>total_income</th>\n",
       "      <th>purpose</th>\n",
       "    </tr>\n",
       "  </thead>\n",
       "  <tbody>\n",
       "    <tr>\n",
       "      <th>0</th>\n",
       "      <td>1</td>\n",
       "      <td>-8437.673028</td>\n",
       "      <td>42</td>\n",
       "      <td>высшее</td>\n",
       "      <td>0</td>\n",
       "      <td>женат / замужем</td>\n",
       "      <td>0</td>\n",
       "      <td>F</td>\n",
       "      <td>сотрудник</td>\n",
       "      <td>0</td>\n",
       "      <td>253875.639453</td>\n",
       "      <td>покупка жилья</td>\n",
       "    </tr>\n",
       "    <tr>\n",
       "      <th>1</th>\n",
       "      <td>1</td>\n",
       "      <td>-4024.803754</td>\n",
       "      <td>36</td>\n",
       "      <td>среднее</td>\n",
       "      <td>1</td>\n",
       "      <td>женат / замужем</td>\n",
       "      <td>0</td>\n",
       "      <td>F</td>\n",
       "      <td>сотрудник</td>\n",
       "      <td>0</td>\n",
       "      <td>112080.014102</td>\n",
       "      <td>приобретение автомобиля</td>\n",
       "    </tr>\n",
       "    <tr>\n",
       "      <th>2</th>\n",
       "      <td>0</td>\n",
       "      <td>-5623.422610</td>\n",
       "      <td>33</td>\n",
       "      <td>Среднее</td>\n",
       "      <td>1</td>\n",
       "      <td>женат / замужем</td>\n",
       "      <td>0</td>\n",
       "      <td>M</td>\n",
       "      <td>сотрудник</td>\n",
       "      <td>0</td>\n",
       "      <td>145885.952297</td>\n",
       "      <td>покупка жилья</td>\n",
       "    </tr>\n",
       "    <tr>\n",
       "      <th>3</th>\n",
       "      <td>3</td>\n",
       "      <td>-4124.747207</td>\n",
       "      <td>32</td>\n",
       "      <td>среднее</td>\n",
       "      <td>1</td>\n",
       "      <td>женат / замужем</td>\n",
       "      <td>0</td>\n",
       "      <td>M</td>\n",
       "      <td>сотрудник</td>\n",
       "      <td>0</td>\n",
       "      <td>267628.550329</td>\n",
       "      <td>дополнительное образование</td>\n",
       "    </tr>\n",
       "    <tr>\n",
       "      <th>4</th>\n",
       "      <td>0</td>\n",
       "      <td>340266.072047</td>\n",
       "      <td>53</td>\n",
       "      <td>среднее</td>\n",
       "      <td>1</td>\n",
       "      <td>гражданский брак</td>\n",
       "      <td>1</td>\n",
       "      <td>F</td>\n",
       "      <td>пенсионер</td>\n",
       "      <td>0</td>\n",
       "      <td>158616.077870</td>\n",
       "      <td>сыграть свадьбу</td>\n",
       "    </tr>\n",
       "    <tr>\n",
       "      <th>5</th>\n",
       "      <td>0</td>\n",
       "      <td>-926.185831</td>\n",
       "      <td>27</td>\n",
       "      <td>высшее</td>\n",
       "      <td>0</td>\n",
       "      <td>гражданский брак</td>\n",
       "      <td>1</td>\n",
       "      <td>M</td>\n",
       "      <td>компаньон</td>\n",
       "      <td>0</td>\n",
       "      <td>255763.565419</td>\n",
       "      <td>покупка жилья</td>\n",
       "    </tr>\n",
       "    <tr>\n",
       "      <th>6</th>\n",
       "      <td>0</td>\n",
       "      <td>-2879.202052</td>\n",
       "      <td>43</td>\n",
       "      <td>высшее</td>\n",
       "      <td>0</td>\n",
       "      <td>женат / замужем</td>\n",
       "      <td>0</td>\n",
       "      <td>F</td>\n",
       "      <td>компаньон</td>\n",
       "      <td>0</td>\n",
       "      <td>240525.971920</td>\n",
       "      <td>операции с жильем</td>\n",
       "    </tr>\n",
       "    <tr>\n",
       "      <th>7</th>\n",
       "      <td>0</td>\n",
       "      <td>-152.779569</td>\n",
       "      <td>50</td>\n",
       "      <td>СРЕДНЕЕ</td>\n",
       "      <td>1</td>\n",
       "      <td>женат / замужем</td>\n",
       "      <td>0</td>\n",
       "      <td>M</td>\n",
       "      <td>сотрудник</td>\n",
       "      <td>0</td>\n",
       "      <td>135823.934197</td>\n",
       "      <td>образование</td>\n",
       "    </tr>\n",
       "    <tr>\n",
       "      <th>8</th>\n",
       "      <td>2</td>\n",
       "      <td>-6929.865299</td>\n",
       "      <td>35</td>\n",
       "      <td>ВЫСШЕЕ</td>\n",
       "      <td>0</td>\n",
       "      <td>гражданский брак</td>\n",
       "      <td>1</td>\n",
       "      <td>F</td>\n",
       "      <td>сотрудник</td>\n",
       "      <td>0</td>\n",
       "      <td>95856.832424</td>\n",
       "      <td>на проведение свадьбы</td>\n",
       "    </tr>\n",
       "    <tr>\n",
       "      <th>9</th>\n",
       "      <td>0</td>\n",
       "      <td>-2188.756445</td>\n",
       "      <td>41</td>\n",
       "      <td>среднее</td>\n",
       "      <td>1</td>\n",
       "      <td>женат / замужем</td>\n",
       "      <td>0</td>\n",
       "      <td>M</td>\n",
       "      <td>сотрудник</td>\n",
       "      <td>0</td>\n",
       "      <td>144425.938277</td>\n",
       "      <td>покупка жилья для семьи</td>\n",
       "    </tr>\n",
       "    <tr>\n",
       "      <th>10</th>\n",
       "      <td>2</td>\n",
       "      <td>-4171.483647</td>\n",
       "      <td>36</td>\n",
       "      <td>высшее</td>\n",
       "      <td>0</td>\n",
       "      <td>женат / замужем</td>\n",
       "      <td>0</td>\n",
       "      <td>M</td>\n",
       "      <td>компаньон</td>\n",
       "      <td>0</td>\n",
       "      <td>113943.491460</td>\n",
       "      <td>покупка недвижимости</td>\n",
       "    </tr>\n",
       "    <tr>\n",
       "      <th>11</th>\n",
       "      <td>0</td>\n",
       "      <td>-792.701887</td>\n",
       "      <td>40</td>\n",
       "      <td>среднее</td>\n",
       "      <td>1</td>\n",
       "      <td>женат / замужем</td>\n",
       "      <td>0</td>\n",
       "      <td>F</td>\n",
       "      <td>сотрудник</td>\n",
       "      <td>0</td>\n",
       "      <td>77069.234271</td>\n",
       "      <td>покупка коммерческой недвижимости</td>\n",
       "    </tr>\n",
       "    <tr>\n",
       "      <th>12</th>\n",
       "      <td>0</td>\n",
       "      <td>NaN</td>\n",
       "      <td>65</td>\n",
       "      <td>среднее</td>\n",
       "      <td>1</td>\n",
       "      <td>гражданский брак</td>\n",
       "      <td>1</td>\n",
       "      <td>M</td>\n",
       "      <td>пенсионер</td>\n",
       "      <td>0</td>\n",
       "      <td>NaN</td>\n",
       "      <td>сыграть свадьбу</td>\n",
       "    </tr>\n",
       "    <tr>\n",
       "      <th>13</th>\n",
       "      <td>0</td>\n",
       "      <td>-1846.641941</td>\n",
       "      <td>54</td>\n",
       "      <td>неоконченное высшее</td>\n",
       "      <td>2</td>\n",
       "      <td>женат / замужем</td>\n",
       "      <td>0</td>\n",
       "      <td>F</td>\n",
       "      <td>сотрудник</td>\n",
       "      <td>0</td>\n",
       "      <td>130458.228857</td>\n",
       "      <td>приобретение автомобиля</td>\n",
       "    </tr>\n",
       "    <tr>\n",
       "      <th>14</th>\n",
       "      <td>0</td>\n",
       "      <td>-1844.956182</td>\n",
       "      <td>56</td>\n",
       "      <td>высшее</td>\n",
       "      <td>0</td>\n",
       "      <td>гражданский брак</td>\n",
       "      <td>1</td>\n",
       "      <td>F</td>\n",
       "      <td>компаньон</td>\n",
       "      <td>1</td>\n",
       "      <td>165127.911772</td>\n",
       "      <td>покупка жилой недвижимости</td>\n",
       "    </tr>\n",
       "    <tr>\n",
       "      <th>15</th>\n",
       "      <td>1</td>\n",
       "      <td>-972.364419</td>\n",
       "      <td>26</td>\n",
       "      <td>среднее</td>\n",
       "      <td>1</td>\n",
       "      <td>женат / замужем</td>\n",
       "      <td>0</td>\n",
       "      <td>F</td>\n",
       "      <td>сотрудник</td>\n",
       "      <td>0</td>\n",
       "      <td>116820.904450</td>\n",
       "      <td>строительство собственной недвижимости</td>\n",
       "    </tr>\n",
       "    <tr>\n",
       "      <th>16</th>\n",
       "      <td>0</td>\n",
       "      <td>-1719.934226</td>\n",
       "      <td>35</td>\n",
       "      <td>среднее</td>\n",
       "      <td>1</td>\n",
       "      <td>женат / замужем</td>\n",
       "      <td>0</td>\n",
       "      <td>F</td>\n",
       "      <td>сотрудник</td>\n",
       "      <td>0</td>\n",
       "      <td>289202.704229</td>\n",
       "      <td>недвижимость</td>\n",
       "    </tr>\n",
       "    <tr>\n",
       "      <th>17</th>\n",
       "      <td>0</td>\n",
       "      <td>-2369.999720</td>\n",
       "      <td>33</td>\n",
       "      <td>высшее</td>\n",
       "      <td>0</td>\n",
       "      <td>гражданский брак</td>\n",
       "      <td>1</td>\n",
       "      <td>M</td>\n",
       "      <td>сотрудник</td>\n",
       "      <td>0</td>\n",
       "      <td>90410.586745</td>\n",
       "      <td>строительство недвижимости</td>\n",
       "    </tr>\n",
       "    <tr>\n",
       "      <th>18</th>\n",
       "      <td>0</td>\n",
       "      <td>400281.136913</td>\n",
       "      <td>53</td>\n",
       "      <td>среднее</td>\n",
       "      <td>1</td>\n",
       "      <td>вдовец / вдова</td>\n",
       "      <td>2</td>\n",
       "      <td>F</td>\n",
       "      <td>пенсионер</td>\n",
       "      <td>0</td>\n",
       "      <td>56823.777243</td>\n",
       "      <td>на покупку подержанного автомобиля</td>\n",
       "    </tr>\n",
       "    <tr>\n",
       "      <th>19</th>\n",
       "      <td>0</td>\n",
       "      <td>-10038.818549</td>\n",
       "      <td>48</td>\n",
       "      <td>СРЕДНЕЕ</td>\n",
       "      <td>1</td>\n",
       "      <td>в разводе</td>\n",
       "      <td>3</td>\n",
       "      <td>F</td>\n",
       "      <td>сотрудник</td>\n",
       "      <td>0</td>\n",
       "      <td>242831.107982</td>\n",
       "      <td>на покупку своего автомобиля</td>\n",
       "    </tr>\n",
       "  </tbody>\n",
       "</table>\n",
       "</div>"
      ],
      "text/plain": [
       "    children  days_employed  dob_years            education  education_id  \\\n",
       "0          1   -8437.673028         42               высшее             0   \n",
       "1          1   -4024.803754         36              среднее             1   \n",
       "2          0   -5623.422610         33              Среднее             1   \n",
       "3          3   -4124.747207         32              среднее             1   \n",
       "4          0  340266.072047         53              среднее             1   \n",
       "5          0    -926.185831         27               высшее             0   \n",
       "6          0   -2879.202052         43               высшее             0   \n",
       "7          0    -152.779569         50              СРЕДНЕЕ             1   \n",
       "8          2   -6929.865299         35               ВЫСШЕЕ             0   \n",
       "9          0   -2188.756445         41              среднее             1   \n",
       "10         2   -4171.483647         36               высшее             0   \n",
       "11         0    -792.701887         40              среднее             1   \n",
       "12         0            NaN         65              среднее             1   \n",
       "13         0   -1846.641941         54  неоконченное высшее             2   \n",
       "14         0   -1844.956182         56               высшее             0   \n",
       "15         1    -972.364419         26              среднее             1   \n",
       "16         0   -1719.934226         35              среднее             1   \n",
       "17         0   -2369.999720         33               высшее             0   \n",
       "18         0  400281.136913         53              среднее             1   \n",
       "19         0  -10038.818549         48              СРЕДНЕЕ             1   \n",
       "\n",
       "       family_status  family_status_id gender income_type  debt  \\\n",
       "0    женат / замужем                 0      F   сотрудник     0   \n",
       "1    женат / замужем                 0      F   сотрудник     0   \n",
       "2    женат / замужем                 0      M   сотрудник     0   \n",
       "3    женат / замужем                 0      M   сотрудник     0   \n",
       "4   гражданский брак                 1      F   пенсионер     0   \n",
       "5   гражданский брак                 1      M   компаньон     0   \n",
       "6    женат / замужем                 0      F   компаньон     0   \n",
       "7    женат / замужем                 0      M   сотрудник     0   \n",
       "8   гражданский брак                 1      F   сотрудник     0   \n",
       "9    женат / замужем                 0      M   сотрудник     0   \n",
       "10   женат / замужем                 0      M   компаньон     0   \n",
       "11   женат / замужем                 0      F   сотрудник     0   \n",
       "12  гражданский брак                 1      M   пенсионер     0   \n",
       "13   женат / замужем                 0      F   сотрудник     0   \n",
       "14  гражданский брак                 1      F   компаньон     1   \n",
       "15   женат / замужем                 0      F   сотрудник     0   \n",
       "16   женат / замужем                 0      F   сотрудник     0   \n",
       "17  гражданский брак                 1      M   сотрудник     0   \n",
       "18    вдовец / вдова                 2      F   пенсионер     0   \n",
       "19         в разводе                 3      F   сотрудник     0   \n",
       "\n",
       "     total_income                                 purpose  \n",
       "0   253875.639453                           покупка жилья  \n",
       "1   112080.014102                 приобретение автомобиля  \n",
       "2   145885.952297                           покупка жилья  \n",
       "3   267628.550329              дополнительное образование  \n",
       "4   158616.077870                         сыграть свадьбу  \n",
       "5   255763.565419                           покупка жилья  \n",
       "6   240525.971920                       операции с жильем  \n",
       "7   135823.934197                             образование  \n",
       "8    95856.832424                   на проведение свадьбы  \n",
       "9   144425.938277                 покупка жилья для семьи  \n",
       "10  113943.491460                    покупка недвижимости  \n",
       "11   77069.234271       покупка коммерческой недвижимости  \n",
       "12            NaN                         сыграть свадьбу  \n",
       "13  130458.228857                 приобретение автомобиля  \n",
       "14  165127.911772              покупка жилой недвижимости  \n",
       "15  116820.904450  строительство собственной недвижимости  \n",
       "16  289202.704229                            недвижимость  \n",
       "17   90410.586745              строительство недвижимости  \n",
       "18   56823.777243      на покупку подержанного автомобиля  \n",
       "19  242831.107982            на покупку своего автомобиля  "
      ]
     },
     "execution_count": 3,
     "metadata": {},
     "output_type": "execute_result"
    }
   ],
   "source": [
    "data.head(20)"
   ]
  },
  {
   "cell_type": "markdown",
   "id": "0ed8f27f",
   "metadata": {
    "deletable": false,
    "editable": false,
    "id": "0ed8f27f"
   },
   "source": [
    "**Задание 3. Выведите основную информацию о датафрейме с помощью метода `info()`.**"
   ]
  },
  {
   "cell_type": "code",
   "execution_count": 4,
   "id": "ab3f863b",
   "metadata": {
    "deletable": false,
    "id": "ab3f863b",
    "outputId": "15376089-8dad-46c9-b520-c05248d43158"
   },
   "outputs": [
    {
     "name": "stdout",
     "output_type": "stream",
     "text": [
      "<class 'pandas.core.frame.DataFrame'>\n",
      "RangeIndex: 21525 entries, 0 to 21524\n",
      "Data columns (total 12 columns):\n",
      " #   Column            Non-Null Count  Dtype  \n",
      "---  ------            --------------  -----  \n",
      " 0   children          21525 non-null  int64  \n",
      " 1   days_employed     19351 non-null  float64\n",
      " 2   dob_years         21525 non-null  int64  \n",
      " 3   education         21525 non-null  object \n",
      " 4   education_id      21525 non-null  int64  \n",
      " 5   family_status     21525 non-null  object \n",
      " 6   family_status_id  21525 non-null  int64  \n",
      " 7   gender            21525 non-null  object \n",
      " 8   income_type       21525 non-null  object \n",
      " 9   debt              21525 non-null  int64  \n",
      " 10  total_income      19351 non-null  float64\n",
      " 11  purpose           21525 non-null  object \n",
      "dtypes: float64(2), int64(5), object(5)\n",
      "memory usage: 2.0+ MB\n"
     ]
    }
   ],
   "source": [
    "data.info()"
   ]
  },
  {
   "cell_type": "markdown",
   "id": "60e3e22d",
   "metadata": {
    "deletable": false,
    "editable": false,
    "id": "60e3e22d"
   },
   "source": [
    "## Предобработка данных"
   ]
  },
  {
   "cell_type": "markdown",
   "id": "03dc170c",
   "metadata": {
    "deletable": false,
    "editable": false,
    "id": "03dc170c"
   },
   "source": [
    "### Удаление пропусков"
   ]
  },
  {
   "cell_type": "markdown",
   "id": "a4f54eef",
   "metadata": {
    "deletable": false,
    "editable": false,
    "id": "a4f54eef"
   },
   "source": [
    "**Задание 4. Выведите количество пропущенных значений для каждого столбца. Используйте комбинацию двух методов.**"
   ]
  },
  {
   "cell_type": "code",
   "execution_count": 5,
   "id": "2dc372b2",
   "metadata": {
    "deletable": false,
    "id": "2dc372b2",
    "outputId": "81f4d817-781c-465c-ed15-91ce4446810d"
   },
   "outputs": [
    {
     "data": {
      "text/plain": [
       "children               0\n",
       "days_employed       2174\n",
       "dob_years              0\n",
       "education              0\n",
       "education_id           0\n",
       "family_status          0\n",
       "family_status_id       0\n",
       "gender                 0\n",
       "income_type            0\n",
       "debt                   0\n",
       "total_income        2174\n",
       "purpose                0\n",
       "dtype: int64"
      ]
     },
     "execution_count": 5,
     "metadata": {},
     "output_type": "execute_result"
    }
   ],
   "source": [
    "data.isna().sum()"
   ]
  },
  {
   "cell_type": "markdown",
   "id": "14f011b1",
   "metadata": {
    "deletable": false,
    "editable": false,
    "id": "14f011b1"
   },
   "source": [
    "**Задание 5. В двух столбцах есть пропущенные значения. Один из них — `days_employed`. Пропуски в этом столбце вы обработаете на следующем этапе. Другой столбец с пропущенными значениями — `total_income` — хранит данные о доходах. На сумму дохода сильнее всего влияет тип занятости, поэтому заполнить пропуски в этом столбце нужно медианным значением по каждому типу из столбца `income_type`. Например, у человека с типом занятости `сотрудник` пропуск в столбце `total_income` должен быть заполнен медианным доходом среди всех записей с тем же типом.**"
   ]
  },
  {
   "cell_type": "code",
   "execution_count": 6,
   "id": "bdabfb6e",
   "metadata": {
    "deletable": false,
    "id": "bdabfb6e"
   },
   "outputs": [],
   "source": [
    "for t in data['income_type'].unique():\n",
    "    data.loc[(data['income_type'] == t) & (data['total_income'].isna()), 'total_income'] = \\\n",
    "    data.loc[(data['income_type'] == t), 'total_income'].median()"
   ]
  },
  {
   "cell_type": "markdown",
   "id": "5be34059",
   "metadata": {
    "deletable": false,
    "editable": false,
    "id": "5be34059"
   },
   "source": [
    "### Обработка аномальных значений"
   ]
  },
  {
   "cell_type": "markdown",
   "id": "a87606cb",
   "metadata": {
    "deletable": false,
    "editable": false,
    "id": "a87606cb"
   },
   "source": [
    "**Задание 6. В данных могут встречаться артефакты (аномалии) — значения, которые не отражают действительность и появились по какой-то ошибке. таким артефактом будет отрицательное количество дней трудового стажа в столбце `days_employed`. Для реальных данных это нормально. Обработайте значения в этом столбце: замените все отрицательные значения положительными с помощью метода `abs()`.**"
   ]
  },
  {
   "cell_type": "code",
   "execution_count": 7,
   "id": "020c46cc",
   "metadata": {
    "deletable": false,
    "id": "020c46cc"
   },
   "outputs": [],
   "source": [
    "data['days_employed'] = data['days_employed'].abs()"
   ]
  },
  {
   "cell_type": "markdown",
   "id": "45538a3a",
   "metadata": {
    "deletable": false,
    "editable": false,
    "id": "45538a3a"
   },
   "source": [
    "**Задание 7. Для каждого типа занятости выведите медианное значение трудового стажа `days_employed` в днях.**"
   ]
  },
  {
   "cell_type": "code",
   "execution_count": 8,
   "id": "cd3e6328",
   "metadata": {
    "deletable": false,
    "id": "cd3e6328",
    "outputId": "801ef80e-522b-4668-f34e-565af7432bcf"
   },
   "outputs": [
    {
     "data": {
      "text/plain": [
       "income_type\n",
       "безработный        366413.652744\n",
       "в декрете            3296.759962\n",
       "госслужащий          2689.368353\n",
       "компаньон            1547.382223\n",
       "пенсионер          365213.306266\n",
       "предприниматель       520.848083\n",
       "сотрудник            1574.202821\n",
       "студент               578.751554\n",
       "Name: days_employed, dtype: float64"
      ]
     },
     "execution_count": 8,
     "metadata": {},
     "output_type": "execute_result"
    }
   ],
   "source": [
    "data.groupby('income_type')['days_employed'].agg('median')"
   ]
  },
  {
   "cell_type": "markdown",
   "id": "90c5f058",
   "metadata": {
    "deletable": false,
    "editable": false,
    "id": "90c5f058"
   },
   "source": [
    "У двух типов (безработные и пенсионеры) получатся аномально большие значения. Исправить такие значения сложно, поэтому оставьте их как есть."
   ]
  },
  {
   "cell_type": "markdown",
   "id": "9652e50d",
   "metadata": {
    "deletable": false,
    "editable": false,
    "id": "9652e50d"
   },
   "source": [
    "**Задание 8. Выведите перечень уникальных значений столбца `children`.**"
   ]
  },
  {
   "cell_type": "code",
   "execution_count": 9,
   "id": "dbb37b8e",
   "metadata": {
    "deletable": false,
    "id": "dbb37b8e",
    "outputId": "6975b15c-7f95-4697-d16d-a0c79b657b03"
   },
   "outputs": [
    {
     "data": {
      "text/plain": [
       "array([ 1,  0,  3,  2, -1,  4, 20,  5])"
      ]
     },
     "execution_count": 9,
     "metadata": {},
     "output_type": "execute_result"
    }
   ],
   "source": [
    "data['children'].unique()"
   ]
  },
  {
   "cell_type": "markdown",
   "id": "2b8b0715",
   "metadata": {
    "deletable": false,
    "editable": false,
    "id": "2b8b0715"
   },
   "source": [
    "**Задание 9. В столбце `children` есть два аномальных значения. Удалите строки, в которых встречаются такие аномальные значения из датафрейма `data`.**"
   ]
  },
  {
   "cell_type": "code",
   "execution_count": 10,
   "id": "20009df8",
   "metadata": {
    "deletable": false,
    "id": "20009df8"
   },
   "outputs": [],
   "source": [
    "data = data[(data['children'] != -1) & (data['children'] != 20)]"
   ]
  },
  {
   "cell_type": "markdown",
   "id": "8c6ac9f1",
   "metadata": {
    "deletable": false,
    "editable": false,
    "id": "8c6ac9f1"
   },
   "source": [
    "**Задание 10. Ещё раз выведите перечень уникальных значений столбца `children`, чтобы убедиться, что артефакты удалены.**"
   ]
  },
  {
   "cell_type": "code",
   "execution_count": 11,
   "id": "07337b81",
   "metadata": {
    "deletable": false,
    "id": "07337b81",
    "outputId": "b2097101-d49d-44d9-901b-32a65c9463d1"
   },
   "outputs": [
    {
     "data": {
      "text/plain": [
       "array([1, 0, 3, 2, 4, 5])"
      ]
     },
     "execution_count": 11,
     "metadata": {},
     "output_type": "execute_result"
    }
   ],
   "source": [
    "data['children'].unique()"
   ]
  },
  {
   "cell_type": "markdown",
   "id": "ee3f52d4",
   "metadata": {
    "deletable": false,
    "editable": false,
    "id": "ee3f52d4"
   },
   "source": [
    "### Удаление пропусков (продолжение)"
   ]
  },
  {
   "cell_type": "markdown",
   "id": "a700b0e4",
   "metadata": {
    "deletable": false,
    "editable": false,
    "id": "a700b0e4"
   },
   "source": [
    "**Задание 11. Заполните пропуски в столбце `days_employed` медианными значениями по каждого типа занятости `income_type`.**"
   ]
  },
  {
   "cell_type": "code",
   "execution_count": 12,
   "id": "61946b83",
   "metadata": {
    "deletable": false,
    "id": "61946b83"
   },
   "outputs": [],
   "source": [
    "for t in data['income_type'].unique():\n",
    "    data.loc[(data['income_type'] == t) & (data['days_employed'].isna()), 'days_employed'] = \\\n",
    "    data.loc[(data['income_type'] == t), 'days_employed'].median()"
   ]
  },
  {
   "cell_type": "markdown",
   "id": "550dcd9b",
   "metadata": {
    "deletable": false,
    "editable": false,
    "id": "550dcd9b"
   },
   "source": [
    "**Задание 12. Убедитесь, что все пропуски заполнены. Проверьте себя и ещё раз выведите количество пропущенных значений для каждого столбца с помощью двух методов.**"
   ]
  },
  {
   "cell_type": "code",
   "execution_count": 13,
   "id": "937c7014",
   "metadata": {
    "deletable": false,
    "id": "937c7014",
    "outputId": "8da1e4e1-358e-4e87-98c9-f261bce0a7b2"
   },
   "outputs": [
    {
     "data": {
      "text/plain": [
       "children            0\n",
       "days_employed       0\n",
       "dob_years           0\n",
       "education           0\n",
       "education_id        0\n",
       "family_status       0\n",
       "family_status_id    0\n",
       "gender              0\n",
       "income_type         0\n",
       "debt                0\n",
       "total_income        0\n",
       "purpose             0\n",
       "dtype: int64"
      ]
     },
     "execution_count": 13,
     "metadata": {},
     "output_type": "execute_result"
    }
   ],
   "source": [
    "data.isna().sum()"
   ]
  },
  {
   "cell_type": "markdown",
   "id": "d522e295",
   "metadata": {
    "deletable": false,
    "editable": false,
    "id": "d522e295"
   },
   "source": [
    "### Изменение типов данных"
   ]
  },
  {
   "cell_type": "markdown",
   "id": "c229c581",
   "metadata": {
    "deletable": false,
    "editable": false,
    "id": "c229c581"
   },
   "source": [
    "**Задание 13. Замените вещественный тип данных в столбце `total_income` на целочисленный с помощью метода `astype()`.**"
   ]
  },
  {
   "cell_type": "code",
   "execution_count": 14,
   "id": "31036462",
   "metadata": {
    "deletable": false,
    "id": "31036462"
   },
   "outputs": [],
   "source": [
    "data['total_income'] = data['total_income'].astype(int)"
   ]
  },
  {
   "cell_type": "markdown",
   "id": "b8e3d1d9",
   "metadata": {
    "deletable": false,
    "editable": false,
    "id": "b8e3d1d9"
   },
   "source": [
    "### Обработка дубликатов"
   ]
  },
  {
   "cell_type": "markdown",
   "id": "9be53c49",
   "metadata": {
    "deletable": false,
    "editable": false,
    "id": "9be53c49"
   },
   "source": [
    "**Задание 14. Обработайте неявные дубликаты в столбце `education`. В этом столбце есть одни и те же значения, но записанные по-разному: с использованием заглавных и строчных букв. Приведите их к нижнему регистру.**"
   ]
  },
  {
   "cell_type": "code",
   "execution_count": 15,
   "id": "d89e73e1",
   "metadata": {
    "deletable": false,
    "id": "d89e73e1"
   },
   "outputs": [],
   "source": [
    "data['education'] = data['education'].str.lower()"
   ]
  },
  {
   "cell_type": "markdown",
   "id": "01d4500e",
   "metadata": {
    "deletable": false,
    "editable": false,
    "id": "01d4500e"
   },
   "source": [
    "**Задание 15. Выведите на экран количество строк-дубликатов в данных. Если такие строки присутствуют, удалите их.**"
   ]
  },
  {
   "cell_type": "code",
   "execution_count": 16,
   "id": "e10efb23",
   "metadata": {
    "deletable": false,
    "id": "e10efb23",
    "outputId": "9684deba-1934-42d1-99e1-cda61740f822"
   },
   "outputs": [
    {
     "data": {
      "text/plain": [
       "71"
      ]
     },
     "execution_count": 16,
     "metadata": {},
     "output_type": "execute_result"
    }
   ],
   "source": [
    "data.duplicated().sum()"
   ]
  },
  {
   "cell_type": "code",
   "execution_count": 17,
   "id": "df853f20",
   "metadata": {
    "deletable": false,
    "id": "df853f20"
   },
   "outputs": [],
   "source": [
    "data = data.drop_duplicates()"
   ]
  },
  {
   "cell_type": "markdown",
   "id": "627be38f",
   "metadata": {
    "deletable": false,
    "editable": false,
    "id": "627be38f"
   },
   "source": [
    "### Категоризация данных"
   ]
  },
  {
   "cell_type": "markdown",
   "id": "4684c3e0",
   "metadata": {
    "deletable": false,
    "editable": false,
    "id": "4684c3e0"
   },
   "source": [
    "**Задание 16. На основании диапазонов, указанных ниже, создайте в датафрейме `data` столбец `total_income_category` с категориями:**\n",
    "\n",
    "- 0–30000 — `'E'`;\n",
    "- 30001–50000 — `'D'`;\n",
    "- 50001–200000 — `'C'`;\n",
    "- 200001–1000000 — `'B'`;\n",
    "- 1000001 и выше — `'A'`.\n",
    "\n",
    "\n",
    "**Например, кредитополучателю с доходом 25000 нужно назначить категорию `'E'`, а клиенту, получающему 235000, — `'B'`. Используйте собственную функцию с именем `categorize_income()` и метод `apply()`.**"
   ]
  },
  {
   "cell_type": "code",
   "execution_count": 18,
   "id": "78965238",
   "metadata": {
    "deletable": false,
    "id": "78965238"
   },
   "outputs": [],
   "source": [
    "def categorize_income(income):\n",
    "    try:\n",
    "        if 0 <= income <= 30000:\n",
    "            return 'E'\n",
    "        elif 30001 <= income <= 50000:\n",
    "            return 'D'\n",
    "        elif 50001 <= income <= 200000:\n",
    "            return 'C'\n",
    "        elif 200001 <= income <= 1000000:\n",
    "            return 'B'\n",
    "        elif income >= 1000001:\n",
    "            return 'A'\n",
    "    except:\n",
    "        pass"
   ]
  },
  {
   "cell_type": "code",
   "execution_count": 19,
   "id": "0980ada1",
   "metadata": {
    "deletable": false,
    "id": "0980ada1"
   },
   "outputs": [],
   "source": [
    "data['total_income_category'] = data['total_income'].apply(categorize_income)"
   ]
  },
  {
   "cell_type": "markdown",
   "id": "9917bba0",
   "metadata": {
    "deletable": false,
    "editable": false,
    "id": "9917bba0"
   },
   "source": [
    "**Задание 17. Выведите на экран перечень уникальных целей взятия кредита из столбца `purpose`.**"
   ]
  },
  {
   "cell_type": "code",
   "execution_count": 20,
   "id": "ee07b65e",
   "metadata": {
    "deletable": false,
    "id": "ee07b65e",
    "outputId": "673c12d9-7d7e-4ae0-9812-c622c89dd244"
   },
   "outputs": [
    {
     "data": {
      "text/plain": [
       "array(['покупка жилья', 'приобретение автомобиля',\n",
       "       'дополнительное образование', 'сыграть свадьбу',\n",
       "       'операции с жильем', 'образование', 'на проведение свадьбы',\n",
       "       'покупка жилья для семьи', 'покупка недвижимости',\n",
       "       'покупка коммерческой недвижимости', 'покупка жилой недвижимости',\n",
       "       'строительство собственной недвижимости', 'недвижимость',\n",
       "       'строительство недвижимости', 'на покупку подержанного автомобиля',\n",
       "       'на покупку своего автомобиля',\n",
       "       'операции с коммерческой недвижимостью',\n",
       "       'строительство жилой недвижимости', 'жилье',\n",
       "       'операции со своей недвижимостью', 'автомобили',\n",
       "       'заняться образованием', 'сделка с подержанным автомобилем',\n",
       "       'получение образования', 'автомобиль', 'свадьба',\n",
       "       'получение дополнительного образования', 'покупка своего жилья',\n",
       "       'операции с недвижимостью', 'получение высшего образования',\n",
       "       'свой автомобиль', 'сделка с автомобилем',\n",
       "       'профильное образование', 'высшее образование',\n",
       "       'покупка жилья для сдачи', 'на покупку автомобиля', 'ремонт жилью',\n",
       "       'заняться высшим образованием'], dtype=object)"
      ]
     },
     "execution_count": 20,
     "metadata": {},
     "output_type": "execute_result"
    }
   ],
   "source": [
    "data['purpose'].unique()"
   ]
  },
  {
   "cell_type": "markdown",
   "id": "52b79d56",
   "metadata": {
    "deletable": false,
    "editable": false,
    "id": "52b79d56"
   },
   "source": [
    "**Задание 18. Создайте функцию, которая на основании данных из столбца `purpose` сформирует новый столбец `purpose_category`, в который войдут следующие категории:**\n",
    "\n",
    "- `'операции с автомобилем'`,\n",
    "- `'операции с недвижимостью'`,\n",
    "- `'проведение свадьбы'`,\n",
    "- `'получение образования'`.\n",
    "\n",
    "**Например, если в столбце `purpose` находится подстрока `'на покупку автомобиля'`, то в столбце `purpose_category` должна появиться строка `'операции с автомобилем'`.**\n",
    "\n",
    "**Используйте собственную функцию с именем `categorize_purpose()` и метод `apply()`. Изучите данные в столбце `purpose` и определите, какие подстроки помогут вам правильно определить категорию.**"
   ]
  },
  {
   "cell_type": "code",
   "execution_count": 21,
   "id": "be41da5d",
   "metadata": {
    "deletable": false,
    "id": "be41da5d"
   },
   "outputs": [],
   "source": [
    "def categorize_purpose(row):\n",
    "    try:\n",
    "        if 'автом' in row:\n",
    "            return 'операции с автомобилем'\n",
    "        elif 'жил' in row or 'недвиж' in row:\n",
    "            return 'операции с недвижимостью'\n",
    "        elif 'свад' in row:\n",
    "            return 'проведение свадьбы'\n",
    "        elif 'образов' in row:\n",
    "            return 'получение образования'\n",
    "    except:\n",
    "        return 'нет категории'"
   ]
  },
  {
   "cell_type": "code",
   "execution_count": 22,
   "id": "94c4a19a",
   "metadata": {
    "deletable": false,
    "id": "94c4a19a"
   },
   "outputs": [],
   "source": [
    "data['purpose_category'] = data['purpose'].apply(categorize_purpose)"
   ]
  },
  {
   "cell_type": "markdown",
   "id": "3d596c34",
   "metadata": {
    "deletable": false,
    "editable": false,
    "id": "3d596c34"
   },
   "source": [
    "### Шаг 3. Исследуйте данные и ответьте на вопросы"
   ]
  },
  {
   "cell_type": "markdown",
   "id": "648db036",
   "metadata": {
    "deletable": false,
    "editable": false,
    "id": "648db036"
   },
   "source": [
    "#### 3.1 Есть ли зависимость между количеством детей и возвратом кредита в срок?"
   ]
  },
  {
   "cell_type": "code",
   "execution_count": 23,
   "id": "7fcff25e",
   "metadata": {
    "deletable": false,
    "id": "7fcff25e"
   },
   "outputs": [
    {
     "data": {
      "text/html": [
       "<div>\n",
       "<style scoped>\n",
       "    .dataframe tbody tr th:only-of-type {\n",
       "        vertical-align: middle;\n",
       "    }\n",
       "\n",
       "    .dataframe tbody tr th {\n",
       "        vertical-align: top;\n",
       "    }\n",
       "\n",
       "    .dataframe thead tr th {\n",
       "        text-align: left;\n",
       "    }\n",
       "\n",
       "    .dataframe thead tr:last-of-type th {\n",
       "        text-align: right;\n",
       "    }\n",
       "</style>\n",
       "<table border=\"1\" class=\"dataframe\">\n",
       "  <thead>\n",
       "    <tr>\n",
       "      <th></th>\n",
       "      <th colspan=\"2\" halign=\"left\">debt</th>\n",
       "      <th>debt_ratio</th>\n",
       "      <th>client_ratio</th>\n",
       "    </tr>\n",
       "    <tr>\n",
       "      <th></th>\n",
       "      <th>count</th>\n",
       "      <th>sum</th>\n",
       "      <th></th>\n",
       "      <th></th>\n",
       "    </tr>\n",
       "    <tr>\n",
       "      <th>children</th>\n",
       "      <th></th>\n",
       "      <th></th>\n",
       "      <th></th>\n",
       "      <th></th>\n",
       "    </tr>\n",
       "  </thead>\n",
       "  <tbody>\n",
       "    <tr>\n",
       "      <th>0</th>\n",
       "      <td>14091</td>\n",
       "      <td>1063</td>\n",
       "      <td>0.075438</td>\n",
       "      <td>0.613741</td>\n",
       "    </tr>\n",
       "    <tr>\n",
       "      <th>1</th>\n",
       "      <td>4808</td>\n",
       "      <td>444</td>\n",
       "      <td>0.092346</td>\n",
       "      <td>0.256351</td>\n",
       "    </tr>\n",
       "    <tr>\n",
       "      <th>2</th>\n",
       "      <td>2052</td>\n",
       "      <td>194</td>\n",
       "      <td>0.094542</td>\n",
       "      <td>0.112009</td>\n",
       "    </tr>\n",
       "    <tr>\n",
       "      <th>3</th>\n",
       "      <td>330</td>\n",
       "      <td>27</td>\n",
       "      <td>0.081818</td>\n",
       "      <td>0.015589</td>\n",
       "    </tr>\n",
       "    <tr>\n",
       "      <th>4</th>\n",
       "      <td>41</td>\n",
       "      <td>4</td>\n",
       "      <td>0.097561</td>\n",
       "      <td>0.002309</td>\n",
       "    </tr>\n",
       "    <tr>\n",
       "      <th>5</th>\n",
       "      <td>9</td>\n",
       "      <td>0</td>\n",
       "      <td>0.000000</td>\n",
       "      <td>0.000000</td>\n",
       "    </tr>\n",
       "  </tbody>\n",
       "</table>\n",
       "</div>"
      ],
      "text/plain": [
       "           debt       debt_ratio client_ratio\n",
       "          count   sum                        \n",
       "children                                     \n",
       "0         14091  1063   0.075438     0.613741\n",
       "1          4808   444   0.092346     0.256351\n",
       "2          2052   194   0.094542     0.112009\n",
       "3           330    27   0.081818     0.015589\n",
       "4            41     4   0.097561     0.002309\n",
       "5             9     0   0.000000     0.000000"
      ]
     },
     "execution_count": 23,
     "metadata": {},
     "output_type": "execute_result"
    }
   ],
   "source": [
    "#сгруппируем заемщиков по количеству детей\n",
    "report_one = data.groupby('children').agg({'debt': ['count','sum']})\n",
    "report_one['debt_ratio'] = report_one['debt']['sum']/report_one['debt']['count'] ##доля заемщиков, которые имели задолженность, непогашенную в срок\n",
    "report_one['client_ratio'] = report_one['debt']['sum']/report_one['debt']['sum'].sum() #доля каждой группы заемщицов в общем количестве заемщиков\n",
    "report_one\n"
   ]
  },
  {
   "cell_type": "markdown",
   "id": "2eb9088e",
   "metadata": {
    "deletable": false,
    "id": "2eb9088e"
   },
   "source": [
    "**Вывод:** \n",
    "Заемщики с детьми чаще возвращают кредит позже срока. \n",
    "При этом заемщики с тремя детьми возвращают кредит позже срока реже, чем заемщики с одним ребенком или двумя детьми."
   ]
  },
  {
   "cell_type": "markdown",
   "id": "74c9b3a7",
   "metadata": {
    "deletable": false,
    "editable": false,
    "id": "74c9b3a7"
   },
   "source": [
    "#### 3.2 Есть ли зависимость между семейным положением и возвратом кредита в срок?"
   ]
  },
  {
   "cell_type": "code",
   "execution_count": 24,
   "id": "8098ab3b",
   "metadata": {
    "deletable": false,
    "id": "8098ab3b"
   },
   "outputs": [
    {
     "data": {
      "text/html": [
       "<div>\n",
       "<style scoped>\n",
       "    .dataframe tbody tr th:only-of-type {\n",
       "        vertical-align: middle;\n",
       "    }\n",
       "\n",
       "    .dataframe tbody tr th {\n",
       "        vertical-align: top;\n",
       "    }\n",
       "\n",
       "    .dataframe thead tr th {\n",
       "        text-align: left;\n",
       "    }\n",
       "\n",
       "    .dataframe thead tr:last-of-type th {\n",
       "        text-align: right;\n",
       "    }\n",
       "</style>\n",
       "<table border=\"1\" class=\"dataframe\">\n",
       "  <thead>\n",
       "    <tr>\n",
       "      <th></th>\n",
       "      <th colspan=\"2\" halign=\"left\">debt</th>\n",
       "      <th>debt_ratio</th>\n",
       "      <th>client_ratio</th>\n",
       "    </tr>\n",
       "    <tr>\n",
       "      <th></th>\n",
       "      <th>count</th>\n",
       "      <th>sum</th>\n",
       "      <th></th>\n",
       "      <th></th>\n",
       "    </tr>\n",
       "    <tr>\n",
       "      <th>family_status</th>\n",
       "      <th></th>\n",
       "      <th></th>\n",
       "      <th></th>\n",
       "      <th></th>\n",
       "    </tr>\n",
       "  </thead>\n",
       "  <tbody>\n",
       "    <tr>\n",
       "      <th>вдовец / вдова</th>\n",
       "      <td>951</td>\n",
       "      <td>63</td>\n",
       "      <td>0.066246</td>\n",
       "      <td>0.036374</td>\n",
       "    </tr>\n",
       "    <tr>\n",
       "      <th>в разводе</th>\n",
       "      <td>1189</td>\n",
       "      <td>84</td>\n",
       "      <td>0.070648</td>\n",
       "      <td>0.048499</td>\n",
       "    </tr>\n",
       "    <tr>\n",
       "      <th>женат / замужем</th>\n",
       "      <td>12261</td>\n",
       "      <td>927</td>\n",
       "      <td>0.075606</td>\n",
       "      <td>0.535219</td>\n",
       "    </tr>\n",
       "    <tr>\n",
       "      <th>гражданский брак</th>\n",
       "      <td>4134</td>\n",
       "      <td>385</td>\n",
       "      <td>0.093130</td>\n",
       "      <td>0.222286</td>\n",
       "    </tr>\n",
       "    <tr>\n",
       "      <th>Не женат / не замужем</th>\n",
       "      <td>2796</td>\n",
       "      <td>273</td>\n",
       "      <td>0.097639</td>\n",
       "      <td>0.157621</td>\n",
       "    </tr>\n",
       "  </tbody>\n",
       "</table>\n",
       "</div>"
      ],
      "text/plain": [
       "                        debt      debt_ratio client_ratio\n",
       "                       count  sum                        \n",
       "family_status                                            \n",
       "вдовец / вдова           951   63   0.066246     0.036374\n",
       "в разводе               1189   84   0.070648     0.048499\n",
       "женат / замужем        12261  927   0.075606     0.535219\n",
       "гражданский брак        4134  385   0.093130     0.222286\n",
       "Не женат / не замужем   2796  273   0.097639     0.157621"
      ]
     },
     "execution_count": 24,
     "metadata": {},
     "output_type": "execute_result"
    }
   ],
   "source": [
    "#сгруппируем заемщиков по семейному положению\n",
    "report_two = data.groupby('family_status').agg({'debt': ['count','sum']})\n",
    "report_two['debt_ratio'] = report_two['debt']['sum']/report_two['debt']['count'] #доля заемщиков, которые имели задолженность, непогашенную в срок\n",
    "report_two['client_ratio'] = report_two['debt']['sum']/report_two['debt']['sum'].sum() #доля каждой группы заемщиков в общем количестве заемщиков\n",
    "report_two.sort_values('debt_ratio')"
   ]
  },
  {
   "cell_type": "code",
   "execution_count": 25,
   "id": "408330f8",
   "metadata": {},
   "outputs": [
    {
     "data": {
      "text/html": [
       "<div>\n",
       "<style scoped>\n",
       "    .dataframe tbody tr th:only-of-type {\n",
       "        vertical-align: middle;\n",
       "    }\n",
       "\n",
       "    .dataframe tbody tr th {\n",
       "        vertical-align: top;\n",
       "    }\n",
       "\n",
       "    .dataframe thead tr th {\n",
       "        text-align: left;\n",
       "    }\n",
       "\n",
       "    .dataframe thead tr:last-of-type th {\n",
       "        text-align: right;\n",
       "    }\n",
       "</style>\n",
       "<table border=\"1\" class=\"dataframe\">\n",
       "  <thead>\n",
       "    <tr>\n",
       "      <th></th>\n",
       "      <th colspan=\"2\" halign=\"left\">debt</th>\n",
       "      <th>debt_ratio</th>\n",
       "      <th>client_ratio</th>\n",
       "    </tr>\n",
       "    <tr>\n",
       "      <th></th>\n",
       "      <th>count</th>\n",
       "      <th>sum</th>\n",
       "      <th></th>\n",
       "      <th></th>\n",
       "    </tr>\n",
       "    <tr>\n",
       "      <th>family_status</th>\n",
       "      <th></th>\n",
       "      <th></th>\n",
       "      <th></th>\n",
       "      <th></th>\n",
       "    </tr>\n",
       "  </thead>\n",
       "  <tbody>\n",
       "    <tr>\n",
       "      <th>Не женат / не замужем</th>\n",
       "      <td>2796</td>\n",
       "      <td>273</td>\n",
       "      <td>0.097639</td>\n",
       "      <td>0.157621</td>\n",
       "    </tr>\n",
       "    <tr>\n",
       "      <th>в разводе</th>\n",
       "      <td>1189</td>\n",
       "      <td>84</td>\n",
       "      <td>0.070648</td>\n",
       "      <td>0.048499</td>\n",
       "    </tr>\n",
       "    <tr>\n",
       "      <th>вдовец / вдова</th>\n",
       "      <td>951</td>\n",
       "      <td>63</td>\n",
       "      <td>0.066246</td>\n",
       "      <td>0.036374</td>\n",
       "    </tr>\n",
       "    <tr>\n",
       "      <th>гражданский брак</th>\n",
       "      <td>4134</td>\n",
       "      <td>385</td>\n",
       "      <td>0.093130</td>\n",
       "      <td>0.222286</td>\n",
       "    </tr>\n",
       "    <tr>\n",
       "      <th>женат / замужем</th>\n",
       "      <td>12261</td>\n",
       "      <td>927</td>\n",
       "      <td>0.075606</td>\n",
       "      <td>0.535219</td>\n",
       "    </tr>\n",
       "  </tbody>\n",
       "</table>\n",
       "</div>"
      ],
      "text/plain": [
       "                        debt      debt_ratio client_ratio\n",
       "                       count  sum                        \n",
       "family_status                                            \n",
       "Не женат / не замужем   2796  273   0.097639     0.157621\n",
       "в разводе               1189   84   0.070648     0.048499\n",
       "вдовец / вдова           951   63   0.066246     0.036374\n",
       "гражданский брак        4134  385   0.093130     0.222286\n",
       "женат / замужем        12261  927   0.075606     0.535219"
      ]
     },
     "execution_count": 25,
     "metadata": {},
     "output_type": "execute_result"
    }
   ],
   "source": [
    "#вариант решения с использованием функции\n",
    "def func(factor):\n",
    "    report = data.groupby(factor).agg({'debt': ['count','sum']})\n",
    "    report['debt_ratio'] = report['debt']['sum']/report['debt']['count'] \n",
    "    report['client_ratio'] = report['debt']['sum']/report_two['debt']['sum'].sum()\n",
    "    return report\n",
    "\n",
    "func(factor=['family_status'])"
   ]
  },
  {
   "cell_type": "markdown",
   "id": "c389ca63",
   "metadata": {
    "deletable": false,
    "id": "c389ca63"
   },
   "source": [
    "**Вывод:** \n",
    "Доля заемщиков, имеющих случаи непогашения кредита в срок, выше среди не состоящих в браке(в том числе и состоящих в гражданском браке), чем у заемщиков, состоящих в браке.Наибольшая доля заемщиков, имеющих случаи несвоервеменных погашений кредита, приходится на не состоящих в официальном браке заемщиков, и составляет 9,76% и 9,53% для не женатых/не замужних и состаящих в гражданском браке заемщиков соответсвенно, что на 2,2 п.п. и 1,97 п.п больше, чем аналогичный показатель среди состоящих в браке заемщиков (7,56%) соответсвенно. "
   ]
  },
  {
   "cell_type": "markdown",
   "id": "9529de68",
   "metadata": {
    "deletable": false,
    "editable": false,
    "id": "9529de68"
   },
   "source": [
    "#### 3.3 Есть ли зависимость между уровнем дохода и возвратом кредита в срок?"
   ]
  },
  {
   "cell_type": "code",
   "execution_count": 26,
   "id": "8787f44a",
   "metadata": {
    "deletable": false,
    "id": "8787f44a"
   },
   "outputs": [
    {
     "data": {
      "text/html": [
       "<div>\n",
       "<style scoped>\n",
       "    .dataframe tbody tr th:only-of-type {\n",
       "        vertical-align: middle;\n",
       "    }\n",
       "\n",
       "    .dataframe tbody tr th {\n",
       "        vertical-align: top;\n",
       "    }\n",
       "\n",
       "    .dataframe thead tr th {\n",
       "        text-align: left;\n",
       "    }\n",
       "\n",
       "    .dataframe thead tr:last-of-type th {\n",
       "        text-align: right;\n",
       "    }\n",
       "</style>\n",
       "<table border=\"1\" class=\"dataframe\">\n",
       "  <thead>\n",
       "    <tr>\n",
       "      <th></th>\n",
       "      <th colspan=\"2\" halign=\"left\">debt</th>\n",
       "      <th>debt_ratio</th>\n",
       "      <th>client_ratio</th>\n",
       "    </tr>\n",
       "    <tr>\n",
       "      <th></th>\n",
       "      <th>count</th>\n",
       "      <th>sum</th>\n",
       "      <th></th>\n",
       "      <th></th>\n",
       "    </tr>\n",
       "    <tr>\n",
       "      <th>total_income_category</th>\n",
       "      <th></th>\n",
       "      <th></th>\n",
       "      <th></th>\n",
       "      <th></th>\n",
       "    </tr>\n",
       "  </thead>\n",
       "  <tbody>\n",
       "    <tr>\n",
       "      <th>A</th>\n",
       "      <td>25</td>\n",
       "      <td>2</td>\n",
       "      <td>0.080000</td>\n",
       "      <td>0.001155</td>\n",
       "    </tr>\n",
       "    <tr>\n",
       "      <th>B</th>\n",
       "      <td>5014</td>\n",
       "      <td>354</td>\n",
       "      <td>0.070602</td>\n",
       "      <td>0.204388</td>\n",
       "    </tr>\n",
       "    <tr>\n",
       "      <th>C</th>\n",
       "      <td>15921</td>\n",
       "      <td>1353</td>\n",
       "      <td>0.084982</td>\n",
       "      <td>0.781178</td>\n",
       "    </tr>\n",
       "    <tr>\n",
       "      <th>D</th>\n",
       "      <td>349</td>\n",
       "      <td>21</td>\n",
       "      <td>0.060172</td>\n",
       "      <td>0.012125</td>\n",
       "    </tr>\n",
       "    <tr>\n",
       "      <th>E</th>\n",
       "      <td>22</td>\n",
       "      <td>2</td>\n",
       "      <td>0.090909</td>\n",
       "      <td>0.001155</td>\n",
       "    </tr>\n",
       "  </tbody>\n",
       "</table>\n",
       "</div>"
      ],
      "text/plain": [
       "                        debt       debt_ratio client_ratio\n",
       "                       count   sum                        \n",
       "total_income_category                                     \n",
       "A                         25     2   0.080000     0.001155\n",
       "B                       5014   354   0.070602     0.204388\n",
       "C                      15921  1353   0.084982     0.781178\n",
       "D                        349    21   0.060172     0.012125\n",
       "E                         22     2   0.090909     0.001155"
      ]
     },
     "execution_count": 26,
     "metadata": {},
     "output_type": "execute_result"
    }
   ],
   "source": [
    "#сгруппируем заемщиков по уровню дохода\n",
    "report_three = data.groupby('total_income_category').agg({'debt': ['count','sum']})\n",
    "report_three['debt_ratio'] = report_three['debt']['sum']/report_three['debt']['count'] #доля заемщиков, которые имели задолженность, непогашенную в срок\n",
    "report_three['client_ratio'] = report_three['debt']['sum']/report_three['debt']['sum'].sum() #доля каждой группы заемщиков в общем количестве заемщиков\n",
    "report_three.sort_values('total_income_category')"
   ]
  },
  {
   "cell_type": "markdown",
   "id": "6dd14b57",
   "metadata": {
    "deletable": false,
    "id": "6dd14b57"
   },
   "source": [
    "**Вывод:** \n",
    "98,56% рассматриваемых заемщиков относятся к двум категорям:\n",
    "- с доходом от 50 000 до 200 000 руб. (78,12%, категория С)\n",
    "- с доходом от 200 000 до 1 000 000 руб. (20,44%, категория B).\n",
    "Остальные категории составляют 1,2 % и менее и являются статистически незначимымми.\n",
    "\n",
    "Заемщики с более низкими доходами (50 000 - 200 000 руб.) на 14,3% чаще погашали задолженность позже срока.\n",
    "\n"
   ]
  },
  {
   "cell_type": "markdown",
   "id": "1dcc9b12",
   "metadata": {
    "deletable": false,
    "editable": false,
    "id": "1dcc9b12"
   },
   "source": [
    "#### 3.4 Как разные цели кредита влияют на его возврат в срок?"
   ]
  },
  {
   "cell_type": "code",
   "execution_count": 27,
   "id": "c602bc8b",
   "metadata": {
    "deletable": false,
    "id": "c602bc8b"
   },
   "outputs": [
    {
     "data": {
      "text/html": [
       "<div>\n",
       "<style scoped>\n",
       "    .dataframe tbody tr th:only-of-type {\n",
       "        vertical-align: middle;\n",
       "    }\n",
       "\n",
       "    .dataframe tbody tr th {\n",
       "        vertical-align: top;\n",
       "    }\n",
       "\n",
       "    .dataframe thead tr th {\n",
       "        text-align: left;\n",
       "    }\n",
       "\n",
       "    .dataframe thead tr:last-of-type th {\n",
       "        text-align: right;\n",
       "    }\n",
       "</style>\n",
       "<table border=\"1\" class=\"dataframe\">\n",
       "  <thead>\n",
       "    <tr>\n",
       "      <th></th>\n",
       "      <th colspan=\"2\" halign=\"left\">debt</th>\n",
       "      <th>debt_ratio</th>\n",
       "      <th>client_ratio</th>\n",
       "    </tr>\n",
       "    <tr>\n",
       "      <th></th>\n",
       "      <th>count</th>\n",
       "      <th>sum</th>\n",
       "      <th></th>\n",
       "      <th></th>\n",
       "    </tr>\n",
       "    <tr>\n",
       "      <th>purpose_category</th>\n",
       "      <th></th>\n",
       "      <th></th>\n",
       "      <th></th>\n",
       "      <th></th>\n",
       "    </tr>\n",
       "  </thead>\n",
       "  <tbody>\n",
       "    <tr>\n",
       "      <th>операции с автомобилем</th>\n",
       "      <td>4279</td>\n",
       "      <td>400</td>\n",
       "      <td>0.093480</td>\n",
       "      <td>0.230947</td>\n",
       "    </tr>\n",
       "    <tr>\n",
       "      <th>операции с недвижимостью</th>\n",
       "      <td>10751</td>\n",
       "      <td>780</td>\n",
       "      <td>0.072551</td>\n",
       "      <td>0.450346</td>\n",
       "    </tr>\n",
       "    <tr>\n",
       "      <th>получение образования</th>\n",
       "      <td>3988</td>\n",
       "      <td>369</td>\n",
       "      <td>0.092528</td>\n",
       "      <td>0.213048</td>\n",
       "    </tr>\n",
       "    <tr>\n",
       "      <th>проведение свадьбы</th>\n",
       "      <td>2313</td>\n",
       "      <td>183</td>\n",
       "      <td>0.079118</td>\n",
       "      <td>0.105658</td>\n",
       "    </tr>\n",
       "  </tbody>\n",
       "</table>\n",
       "</div>"
      ],
      "text/plain": [
       "                           debt      debt_ratio client_ratio\n",
       "                          count  sum                        \n",
       "purpose_category                                            \n",
       "операции с автомобилем     4279  400   0.093480     0.230947\n",
       "операции с недвижимостью  10751  780   0.072551     0.450346\n",
       "получение образования      3988  369   0.092528     0.213048\n",
       "проведение свадьбы         2313  183   0.079118     0.105658"
      ]
     },
     "execution_count": 27,
     "metadata": {},
     "output_type": "execute_result"
    }
   ],
   "source": [
    "#сгруппируем заемщиков по цели кредита\n",
    "report_four = data.groupby('purpose_category').agg({'debt': ['count','sum']})\n",
    "report_four['debt_ratio'] = report_four['debt']['sum']/report_four['debt']['count'] #доля заемщиков, которые имели задолженность, непогашенную в срок\n",
    "report_four['client_ratio'] = report_four['debt']['sum']/report_four['debt']['sum'].sum() #доля каждой группы заемщиков в общем количестве заемщиков\n",
    "report_four"
   ]
  },
  {
   "cell_type": "code",
   "execution_count": 28,
   "id": "fa49d2fa",
   "metadata": {},
   "outputs": [
    {
     "data": {
      "text/html": [
       "<div>\n",
       "<style scoped>\n",
       "    .dataframe tbody tr th:only-of-type {\n",
       "        vertical-align: middle;\n",
       "    }\n",
       "\n",
       "    .dataframe tbody tr th {\n",
       "        vertical-align: top;\n",
       "    }\n",
       "\n",
       "    .dataframe thead th {\n",
       "        text-align: right;\n",
       "    }\n",
       "</style>\n",
       "<table border=\"1\" class=\"dataframe\">\n",
       "  <thead>\n",
       "    <tr style=\"text-align: right;\">\n",
       "      <th>family_status</th>\n",
       "      <th>Не женат / не замужем</th>\n",
       "      <th>в разводе</th>\n",
       "      <th>вдовец / вдова</th>\n",
       "      <th>гражданский брак</th>\n",
       "      <th>женат / замужем</th>\n",
       "    </tr>\n",
       "    <tr>\n",
       "      <th>purpose_category</th>\n",
       "      <th></th>\n",
       "      <th></th>\n",
       "      <th></th>\n",
       "      <th></th>\n",
       "      <th></th>\n",
       "    </tr>\n",
       "  </thead>\n",
       "  <tbody>\n",
       "    <tr>\n",
       "      <th>операции с автомобилем</th>\n",
       "      <td>0.129134</td>\n",
       "      <td>0.075269</td>\n",
       "      <td>0.091743</td>\n",
       "      <td>0.118605</td>\n",
       "      <td>0.083180</td>\n",
       "    </tr>\n",
       "    <tr>\n",
       "      <th>операции с недвижимостью</th>\n",
       "      <td>0.081337</td>\n",
       "      <td>0.068452</td>\n",
       "      <td>0.052336</td>\n",
       "      <td>0.092105</td>\n",
       "      <td>0.069727</td>\n",
       "    </tr>\n",
       "    <tr>\n",
       "      <th>получение образования</th>\n",
       "      <td>0.107826</td>\n",
       "      <td>0.071429</td>\n",
       "      <td>0.075758</td>\n",
       "      <td>0.148883</td>\n",
       "      <td>0.083528</td>\n",
       "    </tr>\n",
       "    <tr>\n",
       "      <th>проведение свадьбы</th>\n",
       "      <td>NaN</td>\n",
       "      <td>NaN</td>\n",
       "      <td>NaN</td>\n",
       "      <td>0.079118</td>\n",
       "      <td>NaN</td>\n",
       "    </tr>\n",
       "  </tbody>\n",
       "</table>\n",
       "</div>"
      ],
      "text/plain": [
       "family_status             Не женат / не замужем  в разводе  вдовец / вдова  \\\n",
       "purpose_category                                                             \n",
       "операции с автомобилем                 0.129134   0.075269        0.091743   \n",
       "операции с недвижимостью               0.081337   0.068452        0.052336   \n",
       "получение образования                  0.107826   0.071429        0.075758   \n",
       "проведение свадьбы                          NaN        NaN             NaN   \n",
       "\n",
       "family_status             гражданский брак  женат / замужем  \n",
       "purpose_category                                             \n",
       "операции с автомобилем            0.118605         0.083180  \n",
       "операции с недвижимостью          0.092105         0.069727  \n",
       "получение образования             0.148883         0.083528  \n",
       "проведение свадьбы                0.079118              NaN  "
      ]
     },
     "execution_count": 28,
     "metadata": {},
     "output_type": "execute_result"
    }
   ],
   "source": [
    "#сформируем сводную таблицу по целям кредитования и семейному статусу и найдем долю несвоевременных платежей по каждой группе\n",
    "pivot_report_debt = data.pivot_table(index=['purpose_category'], columns=['family_status'],values='debt',aggfunc='sum')\n",
    "pivot_report_count=  data.pivot_table(index=['purpose_category'], columns=['family_status'],values='debt',aggfunc='count')\n",
    "pivot_ratio = pivot_report_debt/pivot_report_count\n",
    "pivot_ratio"
   ]
  },
  {
   "cell_type": "markdown",
   "id": "cf05ed63",
   "metadata": {
    "deletable": false,
    "id": "cf05ed63"
   },
   "source": [
    "**Вывод:** \n",
    "Наименьшая доля заемщиков, имеющих случаи несвоевременного погашения кредита, относится к кредитам на операции с недвижимостью (7.26%). Следует отметить, что возврат в срок кредита на операции с недвижимостью имеет наименьшую долю просрочек среди всех категорий заемщиков, независимо от семейного положения. Исключение составляют заемщики в гражданском браке, которые добросовестней всего отдают кредит на проведение свадьбы (7,91%).\n",
    "Кредиты на операции с атомобилем и получение образования имеют приблизительно одинаковое количество несвоевременных погашений - 9,35% и 9,25% соответственно. \n",
    "\n",
    "\n"
   ]
  },
  {
   "cell_type": "markdown",
   "id": "46c1f10b",
   "metadata": {
    "deletable": false,
    "editable": false,
    "id": "46c1f10b"
   },
   "source": [
    "#### 3.5 Приведите возможные причины появления пропусков в исходных данных."
   ]
  },
  {
   "cell_type": "markdown",
   "id": "bd9dc249",
   "metadata": {
    "deletable": false,
    "id": "3697d2a9"
   },
   "source": [
    "**Ответ:** \n",
    "Пропуски в исходных данных имели место в двух столбцах, отражающих ежемесячный стаж и среднемесячный доход. При этом, там где был не указан доход, там же был не указан и стаж. Возможными причинами могла быть техническая ошибка при выгрузке данных. Либо по данным заемщикам не были изначально указаны данные о доходе и стаже. "
   ]
  },
  {
   "cell_type": "markdown",
   "id": "3137d257",
   "metadata": {
    "deletable": false,
    "editable": false,
    "id": "3137d257"
   },
   "source": [
    "#### 3.6 Объясните, почему заполнить пропуски медианным значением — лучшее решение для количественных переменных."
   ]
  },
  {
   "cell_type": "markdown",
   "id": "cf40012a",
   "metadata": {
    "deletable": false,
    "id": "cf40012a"
   },
   "source": [
    "**Ответ:** \n",
    "Медианное значение невилирует выбросы в данных, наличие которых может значительно отразиться на подсчете, например, среднего арифмитического значения. "
   ]
  },
  {
   "cell_type": "markdown",
   "id": "57bc304e",
   "metadata": {
    "deletable": false,
    "editable": false,
    "id": "57bc304e"
   },
   "source": [
    "### Шаг 4: общий вывод."
   ]
  },
  {
   "cell_type": "markdown",
   "id": "1ab75d1c",
   "metadata": {
    "deletable": false,
    "id": "1ab75d1c"
   },
   "source": [
    "**Вывод**\n",
    "Для исследования надежности заемщиков были проанализированы предоставленные данные. \n",
    "Предварительный анализ данных показал наличие пропусков в данных по 2174 заемщикам, отражающих ежемесячный стаж и среднемесячный доход. Возможными причинами могла быть техническая ошибка при выгрузке данных. Либо по данным заемщикам не были изначально указаны данные о доходе и стаже. Для проведения анализа пропуски были заменены на медианные значения, соответствующие категориям заемщиков по занимаемой должности.\n",
    "Кроме того были обнаружены 71 дубликат. Данные строки были удалены.\n",
    "\n",
    "В результате проведенной раюоты сделаны следующие выводы:\n",
    "1. Заемщики с детьми чаще возвращают кредит позже срока. При этом заемщики с тремя детьми возвращают кредит позже срока реже, чем заемщики с одним ребенком или двумя детьми.\n",
    "2. Наибольшая доля заемщиков, имеющих случаи несвоервеменных погашений кредита, приходится на не состоящих в официальном браке заемщиков, и составляет 9,76% и 9,53% для не женатых/не замужних и состаящих в гражданском браке заемщиков соответсвенно, что на 2,20 п.п. и 1,97 п.п больше, чем аналогичный показатель среди состоящих в браке заемщиков (7,56%) соответсвенно. \n",
    "\n",
    "3. 98,56% рассматриваемых заемщиков относятся к двум категорям:\n",
    "- с доходом от 50 000 до 200 000 руб. (78,12%, категория С)\n",
    "- с доходом от 200 000 до 1 000 000 руб. (20,44%, категория B).\n",
    "Заемщики с более низкими доходами (50 000 - 200 000 руб.) на 14,3% чаще погашали задолженность позже срока.\n",
    "\n",
    "4. Наименьшая доля заемщиков, имеющих случаи несвоевременного погашения кредита, относится к кредитам на операции с недвижимостью (7.26%). Следует отметить, что возврат в срок кредита на операции с недвижимостью имеет наименьшую долю просрочек среди всех категорий заемщиков, независимо от семейного положения. Исключение составляют заемщики в гражданском браке, которые добросовестней всего отдают кредит на проведение свадьбы (7,91%).\n",
    "Кредиты на операции с автомобилем и получение образования имеют приблизительно одинаковое количество несвоевременных погашений - 9,35% и 9,25% соответственно.\n",
    "\n",
    "Таким образом, можно сделать вывод, что на погашение кредита в срок влияют разные факторы, в том числе семейное положение, наличие и количество детей, доход заемщиков, а так же цели кредитования. Для оценки надежности потенциального заемщика все эти факторы необходимо рассматривать в совокупности."
   ]
  }
 ],
 "metadata": {
  "ExecuteTimeLog": [
   {
    "duration": 44,
    "start_time": "2023-12-30T18:16:01.471Z"
   },
   {
    "duration": 468,
    "start_time": "2023-12-30T18:17:59.679Z"
   },
   {
    "duration": 21,
    "start_time": "2023-12-30T18:18:04.290Z"
   },
   {
    "duration": 15,
    "start_time": "2023-12-30T18:18:11.461Z"
   },
   {
    "duration": 9,
    "start_time": "2023-12-30T18:18:17.724Z"
   },
   {
    "duration": 33,
    "start_time": "2023-12-30T18:18:19.517Z"
   },
   {
    "duration": 3,
    "start_time": "2023-12-30T18:18:21.920Z"
   },
   {
    "duration": 7,
    "start_time": "2023-12-30T18:18:23.794Z"
   },
   {
    "duration": 4,
    "start_time": "2023-12-30T18:18:27.984Z"
   },
   {
    "duration": 7,
    "start_time": "2023-12-30T18:18:29.714Z"
   },
   {
    "duration": 4,
    "start_time": "2023-12-30T18:18:32.854Z"
   },
   {
    "duration": 38,
    "start_time": "2023-12-30T18:18:35.918Z"
   },
   {
    "duration": 10,
    "start_time": "2023-12-30T18:18:38.387Z"
   },
   {
    "duration": 3,
    "start_time": "2023-12-30T18:18:41.088Z"
   },
   {
    "duration": 11,
    "start_time": "2023-12-30T18:18:42.690Z"
   },
   {
    "duration": 21,
    "start_time": "2023-12-30T18:18:45.913Z"
   },
   {
    "duration": 16,
    "start_time": "2023-12-30T18:18:47.343Z"
   },
   {
    "duration": 3,
    "start_time": "2023-12-30T18:18:50.693Z"
   },
   {
    "duration": 10,
    "start_time": "2023-12-30T18:18:52.061Z"
   },
   {
    "duration": 5,
    "start_time": "2023-12-30T18:18:55.348Z"
   },
   {
    "duration": 4,
    "start_time": "2023-12-30T18:18:57.704Z"
   },
   {
    "duration": 8,
    "start_time": "2023-12-30T18:18:58.887Z"
   },
   {
    "duration": 13,
    "start_time": "2023-12-30T18:19:01.286Z"
   },
   {
    "duration": 9,
    "start_time": "2023-12-30T18:48:30.346Z"
   },
   {
    "duration": 9,
    "start_time": "2023-12-30T18:48:54.381Z"
   },
   {
    "duration": 9,
    "start_time": "2023-12-30T18:49:30.794Z"
   },
   {
    "duration": 14,
    "start_time": "2023-12-30T18:49:56.099Z"
   },
   {
    "duration": 94,
    "start_time": "2023-12-30T18:51:16.351Z"
   },
   {
    "duration": 8,
    "start_time": "2023-12-30T18:51:26.832Z"
   },
   {
    "duration": 9,
    "start_time": "2023-12-30T18:51:59.943Z"
   },
   {
    "duration": 14,
    "start_time": "2023-12-30T19:35:28.516Z"
   },
   {
    "duration": 10,
    "start_time": "2023-12-30T19:48:33.193Z"
   },
   {
    "duration": 6,
    "start_time": "2023-12-30T19:49:05.303Z"
   },
   {
    "duration": 64,
    "start_time": "2023-12-30T19:49:27.440Z"
   },
   {
    "duration": 4,
    "start_time": "2023-12-30T19:49:39.812Z"
   },
   {
    "duration": 10,
    "start_time": "2023-12-30T19:49:51.726Z"
   },
   {
    "duration": 6,
    "start_time": "2023-12-30T19:50:03.659Z"
   },
   {
    "duration": 6,
    "start_time": "2023-12-30T19:50:18.710Z"
   },
   {
    "duration": 72,
    "start_time": "2023-12-30T19:50:37.750Z"
   },
   {
    "duration": 6,
    "start_time": "2023-12-30T19:50:42.433Z"
   },
   {
    "duration": 90,
    "start_time": "2023-12-30T20:02:08.614Z"
   },
   {
    "duration": 94,
    "start_time": "2023-12-30T20:02:24.894Z"
   },
   {
    "duration": 17,
    "start_time": "2023-12-30T20:02:41.655Z"
   },
   {
    "duration": 13,
    "start_time": "2023-12-30T20:03:20.359Z"
   },
   {
    "duration": 23,
    "start_time": "2023-12-30T20:11:00.674Z"
   },
   {
    "duration": 19,
    "start_time": "2023-12-30T20:27:57.198Z"
   },
   {
    "duration": 82,
    "start_time": "2023-12-30T20:29:11.005Z"
   },
   {
    "duration": 21,
    "start_time": "2023-12-30T20:29:18.698Z"
   },
   {
    "duration": 18,
    "start_time": "2023-12-30T20:29:27.816Z"
   },
   {
    "duration": 19,
    "start_time": "2023-12-30T20:35:09.668Z"
   },
   {
    "duration": 17,
    "start_time": "2023-12-30T20:35:18.145Z"
   },
   {
    "duration": 19,
    "start_time": "2023-12-30T20:35:37.806Z"
   },
   {
    "duration": 27,
    "start_time": "2023-12-30T20:38:50.056Z"
   },
   {
    "duration": 19,
    "start_time": "2023-12-30T20:40:12.857Z"
   },
   {
    "duration": 18,
    "start_time": "2023-12-30T20:40:32.815Z"
   },
   {
    "duration": 20,
    "start_time": "2023-12-30T20:44:16.494Z"
   },
   {
    "duration": 20,
    "start_time": "2023-12-30T20:44:25.484Z"
   },
   {
    "duration": 19,
    "start_time": "2023-12-30T20:57:12.143Z"
   },
   {
    "duration": 17,
    "start_time": "2023-12-30T21:32:44.707Z"
   },
   {
    "duration": 35,
    "start_time": "2023-12-30T21:32:52.195Z"
   },
   {
    "duration": 49,
    "start_time": "2024-01-02T16:02:01.288Z"
   },
   {
    "duration": 520,
    "start_time": "2024-01-02T16:02:16.626Z"
   },
   {
    "duration": 21,
    "start_time": "2024-01-02T16:02:17.148Z"
   },
   {
    "duration": 23,
    "start_time": "2024-01-02T16:02:17.170Z"
   },
   {
    "duration": 17,
    "start_time": "2024-01-02T16:02:17.195Z"
   },
   {
    "duration": 31,
    "start_time": "2024-01-02T16:02:17.214Z"
   },
   {
    "duration": 3,
    "start_time": "2024-01-02T16:02:17.246Z"
   },
   {
    "duration": 28,
    "start_time": "2024-01-02T16:02:17.250Z"
   },
   {
    "duration": 4,
    "start_time": "2024-01-02T16:02:17.279Z"
   },
   {
    "duration": 10,
    "start_time": "2024-01-02T16:02:17.284Z"
   },
   {
    "duration": 3,
    "start_time": "2024-01-02T16:02:17.297Z"
   },
   {
    "duration": 31,
    "start_time": "2024-01-02T16:02:17.301Z"
   },
   {
    "duration": 10,
    "start_time": "2024-01-02T16:02:17.333Z"
   },
   {
    "duration": 15,
    "start_time": "2024-01-02T16:02:17.344Z"
   },
   {
    "duration": 18,
    "start_time": "2024-01-02T16:02:17.360Z"
   },
   {
    "duration": 33,
    "start_time": "2024-01-02T16:02:17.379Z"
   },
   {
    "duration": 15,
    "start_time": "2024-01-02T16:02:17.414Z"
   },
   {
    "duration": 4,
    "start_time": "2024-01-02T16:02:17.430Z"
   },
   {
    "duration": 28,
    "start_time": "2024-01-02T16:02:17.436Z"
   },
   {
    "duration": 17,
    "start_time": "2024-01-02T16:02:17.465Z"
   },
   {
    "duration": 21,
    "start_time": "2024-01-02T16:02:17.483Z"
   },
   {
    "duration": 16,
    "start_time": "2024-01-02T16:02:17.505Z"
   },
   {
    "duration": 19,
    "start_time": "2024-01-02T16:02:17.522Z"
   },
   {
    "duration": 17,
    "start_time": "2024-01-02T16:02:17.542Z"
   },
   {
    "duration": 16,
    "start_time": "2024-01-02T16:02:17.560Z"
   },
   {
    "duration": 16,
    "start_time": "2024-01-02T16:02:17.578Z"
   },
   {
    "duration": 27,
    "start_time": "2024-01-02T16:02:17.595Z"
   },
   {
    "duration": 21,
    "start_time": "2024-01-02T16:03:22.375Z"
   },
   {
    "duration": 29,
    "start_time": "2024-01-02T16:12:25.834Z"
   },
   {
    "duration": 23,
    "start_time": "2024-01-02T16:13:36.441Z"
   },
   {
    "duration": 37,
    "start_time": "2024-01-02T16:13:45.201Z"
   },
   {
    "duration": 28,
    "start_time": "2024-01-02T17:21:11.770Z"
   },
   {
    "duration": 964,
    "start_time": "2024-01-02T17:28:19.483Z"
   },
   {
    "duration": 9,
    "start_time": "2024-01-02T17:28:54.788Z"
   },
   {
    "duration": 130,
    "start_time": "2024-01-02T17:29:16.555Z"
   },
   {
    "duration": 107,
    "start_time": "2024-01-02T17:30:46.168Z"
   },
   {
    "duration": 770,
    "start_time": "2024-01-02T17:33:01.484Z"
   },
   {
    "duration": 908,
    "start_time": "2024-01-02T17:33:22.903Z"
   },
   {
    "duration": 714,
    "start_time": "2024-01-02T17:33:36.115Z"
   },
   {
    "duration": 7,
    "start_time": "2024-01-02T17:34:26.563Z"
   },
   {
    "duration": 713,
    "start_time": "2024-01-02T17:35:00.616Z"
   },
   {
    "duration": 804,
    "start_time": "2024-01-02T17:36:09.117Z"
   },
   {
    "duration": 43,
    "start_time": "2024-01-02T19:24:25.201Z"
   },
   {
    "duration": 432,
    "start_time": "2024-01-02T19:24:36.799Z"
   },
   {
    "duration": 21,
    "start_time": "2024-01-02T19:24:37.232Z"
   },
   {
    "duration": 13,
    "start_time": "2024-01-02T19:24:37.254Z"
   },
   {
    "duration": 8,
    "start_time": "2024-01-02T19:24:37.269Z"
   },
   {
    "duration": 31,
    "start_time": "2024-01-02T19:24:37.279Z"
   },
   {
    "duration": 2,
    "start_time": "2024-01-02T19:24:37.312Z"
   },
   {
    "duration": 12,
    "start_time": "2024-01-02T19:24:37.316Z"
   },
   {
    "duration": 11,
    "start_time": "2024-01-02T19:24:37.330Z"
   },
   {
    "duration": 6,
    "start_time": "2024-01-02T19:24:37.343Z"
   },
   {
    "duration": 16,
    "start_time": "2024-01-02T19:24:37.351Z"
   },
   {
    "duration": 32,
    "start_time": "2024-01-02T19:24:37.368Z"
   },
   {
    "duration": 9,
    "start_time": "2024-01-02T19:24:37.402Z"
   },
   {
    "duration": 3,
    "start_time": "2024-01-02T19:24:37.412Z"
   },
   {
    "duration": 10,
    "start_time": "2024-01-02T19:24:37.418Z"
   },
   {
    "duration": 45,
    "start_time": "2024-01-02T19:24:37.429Z"
   },
   {
    "duration": 15,
    "start_time": "2024-01-02T19:24:37.476Z"
   },
   {
    "duration": 4,
    "start_time": "2024-01-02T19:24:37.492Z"
   },
   {
    "duration": 16,
    "start_time": "2024-01-02T19:24:37.497Z"
   },
   {
    "duration": 5,
    "start_time": "2024-01-02T19:24:37.514Z"
   },
   {
    "duration": 3,
    "start_time": "2024-01-02T19:24:37.521Z"
   },
   {
    "duration": 10,
    "start_time": "2024-01-02T19:24:37.525Z"
   },
   {
    "duration": 39,
    "start_time": "2024-01-02T19:24:37.536Z"
   },
   {
    "duration": 18,
    "start_time": "2024-01-02T19:24:37.577Z"
   },
   {
    "duration": 98,
    "start_time": "2024-01-02T19:24:37.597Z"
   },
   {
    "duration": 0,
    "start_time": "2024-01-02T19:24:37.697Z"
   },
   {
    "duration": 0,
    "start_time": "2024-01-02T19:24:37.697Z"
   },
   {
    "duration": 0,
    "start_time": "2024-01-02T19:24:37.699Z"
   },
   {
    "duration": 24,
    "start_time": "2024-01-02T19:25:08.519Z"
   },
   {
    "duration": 39,
    "start_time": "2024-01-02T19:25:28.571Z"
   },
   {
    "duration": 25,
    "start_time": "2024-01-02T19:32:40.158Z"
   },
   {
    "duration": 18,
    "start_time": "2024-01-02T19:33:04.485Z"
   },
   {
    "duration": 32,
    "start_time": "2024-01-02T19:39:50.437Z"
   },
   {
    "duration": 30,
    "start_time": "2024-01-02T19:43:18.974Z"
   },
   {
    "duration": 32,
    "start_time": "2024-01-02T19:44:06.784Z"
   },
   {
    "duration": 49,
    "start_time": "2024-01-03T06:19:35.326Z"
   },
   {
    "duration": 688,
    "start_time": "2024-01-03T06:19:47.757Z"
   },
   {
    "duration": 20,
    "start_time": "2024-01-03T06:19:48.447Z"
   },
   {
    "duration": 15,
    "start_time": "2024-01-03T06:19:48.469Z"
   },
   {
    "duration": 10,
    "start_time": "2024-01-03T06:19:48.485Z"
   },
   {
    "duration": 43,
    "start_time": "2024-01-03T06:19:48.496Z"
   },
   {
    "duration": 3,
    "start_time": "2024-01-03T06:19:48.541Z"
   },
   {
    "duration": 12,
    "start_time": "2024-01-03T06:19:48.546Z"
   },
   {
    "duration": 4,
    "start_time": "2024-01-03T06:19:48.560Z"
   },
   {
    "duration": 10,
    "start_time": "2024-01-03T06:19:48.566Z"
   },
   {
    "duration": 5,
    "start_time": "2024-01-03T06:19:48.577Z"
   },
   {
    "duration": 68,
    "start_time": "2024-01-03T06:19:48.584Z"
   },
   {
    "duration": 9,
    "start_time": "2024-01-03T06:19:48.653Z"
   },
   {
    "duration": 4,
    "start_time": "2024-01-03T06:19:48.664Z"
   },
   {
    "duration": 10,
    "start_time": "2024-01-03T06:19:48.671Z"
   },
   {
    "duration": 47,
    "start_time": "2024-01-03T06:19:48.683Z"
   },
   {
    "duration": 17,
    "start_time": "2024-01-03T06:19:48.731Z"
   },
   {
    "duration": 3,
    "start_time": "2024-01-03T06:19:48.749Z"
   },
   {
    "duration": 13,
    "start_time": "2024-01-03T06:19:48.753Z"
   },
   {
    "duration": 6,
    "start_time": "2024-01-03T06:19:48.768Z"
   },
   {
    "duration": 7,
    "start_time": "2024-01-03T06:19:48.775Z"
   },
   {
    "duration": 13,
    "start_time": "2024-01-03T06:19:48.783Z"
   },
   {
    "duration": 30,
    "start_time": "2024-01-03T06:19:48.797Z"
   },
   {
    "duration": 21,
    "start_time": "2024-01-03T06:19:48.828Z"
   },
   {
    "duration": 18,
    "start_time": "2024-01-03T06:19:48.851Z"
   },
   {
    "duration": 19,
    "start_time": "2024-01-03T06:19:48.870Z"
   },
   {
    "duration": 61,
    "start_time": "2024-01-03T06:19:48.890Z"
   },
   {
    "duration": 37,
    "start_time": "2024-01-03T06:50:54.984Z"
   },
   {
    "duration": 47,
    "start_time": "2024-01-03T06:51:41.988Z"
   },
   {
    "duration": 37,
    "start_time": "2024-01-03T06:57:49.919Z"
   },
   {
    "duration": 31,
    "start_time": "2024-01-03T07:07:00.498Z"
   },
   {
    "duration": 33,
    "start_time": "2024-01-03T07:08:06.251Z"
   },
   {
    "duration": 49,
    "start_time": "2024-01-04T13:34:56.128Z"
   },
   {
    "duration": 684,
    "start_time": "2024-01-04T13:35:13.604Z"
   },
   {
    "duration": 23,
    "start_time": "2024-01-04T13:35:14.290Z"
   },
   {
    "duration": 15,
    "start_time": "2024-01-04T13:35:14.315Z"
   },
   {
    "duration": 10,
    "start_time": "2024-01-04T13:35:14.332Z"
   },
   {
    "duration": 55,
    "start_time": "2024-01-04T13:35:14.344Z"
   },
   {
    "duration": 4,
    "start_time": "2024-01-04T13:35:14.401Z"
   },
   {
    "duration": 10,
    "start_time": "2024-01-04T13:35:14.406Z"
   },
   {
    "duration": 4,
    "start_time": "2024-01-04T13:35:14.417Z"
   },
   {
    "duration": 8,
    "start_time": "2024-01-04T13:35:14.422Z"
   },
   {
    "duration": 4,
    "start_time": "2024-01-04T13:35:14.431Z"
   },
   {
    "duration": 58,
    "start_time": "2024-01-04T13:35:14.437Z"
   },
   {
    "duration": 11,
    "start_time": "2024-01-04T13:35:14.497Z"
   },
   {
    "duration": 4,
    "start_time": "2024-01-04T13:35:14.509Z"
   },
   {
    "duration": 12,
    "start_time": "2024-01-04T13:35:14.515Z"
   },
   {
    "duration": 19,
    "start_time": "2024-01-04T13:35:14.529Z"
   },
   {
    "duration": 43,
    "start_time": "2024-01-04T13:35:14.550Z"
   },
   {
    "duration": 3,
    "start_time": "2024-01-04T13:35:14.594Z"
   },
   {
    "duration": 11,
    "start_time": "2024-01-04T13:35:14.599Z"
   },
   {
    "duration": 5,
    "start_time": "2024-01-04T13:35:14.611Z"
   },
   {
    "duration": 3,
    "start_time": "2024-01-04T13:35:14.618Z"
   },
   {
    "duration": 11,
    "start_time": "2024-01-04T13:35:14.622Z"
   },
   {
    "duration": 101,
    "start_time": "2024-01-04T13:35:14.635Z"
   },
   {
    "duration": 0,
    "start_time": "2024-01-04T13:35:14.737Z"
   },
   {
    "duration": 0,
    "start_time": "2024-01-04T13:35:14.739Z"
   },
   {
    "duration": 0,
    "start_time": "2024-01-04T13:35:14.739Z"
   },
   {
    "duration": 0,
    "start_time": "2024-01-04T13:35:14.740Z"
   },
   {
    "duration": 17,
    "start_time": "2024-01-04T13:35:46.402Z"
   },
   {
    "duration": 24,
    "start_time": "2024-01-04T13:36:19.365Z"
   },
   {
    "duration": 20,
    "start_time": "2024-01-04T13:39:48.253Z"
   },
   {
    "duration": 19,
    "start_time": "2024-01-04T13:40:46.172Z"
   },
   {
    "duration": 18,
    "start_time": "2024-01-04T13:44:09.688Z"
   },
   {
    "duration": 21,
    "start_time": "2024-01-04T13:44:42.364Z"
   },
   {
    "duration": 75,
    "start_time": "2024-01-04T13:55:24.339Z"
   },
   {
    "duration": 21,
    "start_time": "2024-01-04T13:57:28.628Z"
   },
   {
    "duration": 13,
    "start_time": "2024-01-04T13:57:59.396Z"
   },
   {
    "duration": 80,
    "start_time": "2024-01-04T13:59:38.356Z"
   },
   {
    "duration": 13,
    "start_time": "2024-01-04T13:59:51.389Z"
   },
   {
    "duration": 99,
    "start_time": "2024-01-04T14:01:14.051Z"
   },
   {
    "duration": 25,
    "start_time": "2024-01-04T14:01:19.411Z"
   },
   {
    "duration": 301,
    "start_time": "2024-01-04T14:02:06.249Z"
   },
   {
    "duration": 67,
    "start_time": "2024-01-04T14:07:05.671Z"
   },
   {
    "duration": 15,
    "start_time": "2024-01-04T14:07:17.208Z"
   },
   {
    "duration": 118,
    "start_time": "2024-01-04T14:07:59.950Z"
   },
   {
    "duration": 15,
    "start_time": "2024-01-04T14:08:05.893Z"
   },
   {
    "duration": 3,
    "start_time": "2024-01-04T14:08:25.194Z"
   },
   {
    "duration": 19,
    "start_time": "2024-01-04T14:09:09.030Z"
   },
   {
    "duration": 16,
    "start_time": "2024-01-04T14:15:02.955Z"
   },
   {
    "duration": 72,
    "start_time": "2024-01-04T14:15:54.107Z"
   },
   {
    "duration": 73,
    "start_time": "2024-01-04T14:16:57.761Z"
   },
   {
    "duration": 18,
    "start_time": "2024-01-04T14:17:28.673Z"
   },
   {
    "duration": 3,
    "start_time": "2024-01-04T14:17:57.998Z"
   },
   {
    "duration": 15,
    "start_time": "2024-01-04T14:18:34.416Z"
   },
   {
    "duration": 19,
    "start_time": "2024-01-04T14:18:43.238Z"
   },
   {
    "duration": 69,
    "start_time": "2024-01-04T14:25:41.882Z"
   },
   {
    "duration": 71,
    "start_time": "2024-01-04T14:26:11.533Z"
   },
   {
    "duration": 71,
    "start_time": "2024-01-04T14:26:25.111Z"
   },
   {
    "duration": 19,
    "start_time": "2024-01-04T14:27:58.692Z"
   },
   {
    "duration": 17,
    "start_time": "2024-01-04T14:28:56.439Z"
   },
   {
    "duration": 446,
    "start_time": "2024-01-04T14:31:38.584Z"
   },
   {
    "duration": 29,
    "start_time": "2024-01-04T14:32:34.446Z"
   },
   {
    "duration": 18,
    "start_time": "2024-01-04T14:34:12.745Z"
   },
   {
    "duration": 18,
    "start_time": "2024-01-04T14:36:15.570Z"
   },
   {
    "duration": 21,
    "start_time": "2024-01-04T14:37:10.694Z"
   },
   {
    "duration": 18,
    "start_time": "2024-01-04T14:37:36.133Z"
   },
   {
    "duration": 17,
    "start_time": "2024-01-04T14:39:24.206Z"
   },
   {
    "duration": 19,
    "start_time": "2024-01-04T14:39:32.173Z"
   },
   {
    "duration": 16,
    "start_time": "2024-01-04T14:40:12.348Z"
   },
   {
    "duration": 18,
    "start_time": "2024-01-04T14:40:20.276Z"
   },
   {
    "duration": 19,
    "start_time": "2024-01-04T14:40:52.778Z"
   },
   {
    "duration": 18,
    "start_time": "2024-01-04T14:41:28.106Z"
   },
   {
    "duration": 20,
    "start_time": "2024-01-04T14:43:40.998Z"
   },
   {
    "duration": 481,
    "start_time": "2024-01-04T14:45:40.863Z"
   },
   {
    "duration": 21,
    "start_time": "2024-01-04T14:45:41.346Z"
   },
   {
    "duration": 15,
    "start_time": "2024-01-04T14:45:41.368Z"
   },
   {
    "duration": 10,
    "start_time": "2024-01-04T14:45:41.384Z"
   },
   {
    "duration": 34,
    "start_time": "2024-01-04T14:45:41.396Z"
   },
   {
    "duration": 3,
    "start_time": "2024-01-04T14:45:41.431Z"
   },
   {
    "duration": 9,
    "start_time": "2024-01-04T14:45:41.435Z"
   },
   {
    "duration": 10,
    "start_time": "2024-01-04T14:45:41.445Z"
   },
   {
    "duration": 26,
    "start_time": "2024-01-04T14:45:41.456Z"
   },
   {
    "duration": 5,
    "start_time": "2024-01-04T14:45:41.484Z"
   },
   {
    "duration": 34,
    "start_time": "2024-01-04T14:45:41.490Z"
   },
   {
    "duration": 10,
    "start_time": "2024-01-04T14:45:41.525Z"
   },
   {
    "duration": 3,
    "start_time": "2024-01-04T14:45:41.537Z"
   },
   {
    "duration": 11,
    "start_time": "2024-01-04T14:45:41.542Z"
   },
   {
    "duration": 48,
    "start_time": "2024-01-04T14:45:41.554Z"
   },
   {
    "duration": 15,
    "start_time": "2024-01-04T14:45:41.603Z"
   },
   {
    "duration": 3,
    "start_time": "2024-01-04T14:45:41.620Z"
   },
   {
    "duration": 11,
    "start_time": "2024-01-04T14:45:41.624Z"
   },
   {
    "duration": 5,
    "start_time": "2024-01-04T14:45:41.636Z"
   },
   {
    "duration": 4,
    "start_time": "2024-01-04T14:45:41.642Z"
   },
   {
    "duration": 40,
    "start_time": "2024-01-04T14:45:41.647Z"
   },
   {
    "duration": 18,
    "start_time": "2024-01-04T14:45:41.688Z"
   },
   {
    "duration": 20,
    "start_time": "2024-01-04T14:45:41.707Z"
   },
   {
    "duration": 18,
    "start_time": "2024-01-04T14:45:41.729Z"
   },
   {
    "duration": 46,
    "start_time": "2024-01-04T14:45:41.748Z"
   },
   {
    "duration": 20,
    "start_time": "2024-01-04T14:45:41.795Z"
   },
   {
    "duration": 46,
    "start_time": "2024-01-04T14:45:41.816Z"
   },
   {
    "duration": 19,
    "start_time": "2024-01-04T14:47:20.153Z"
   },
   {
    "duration": 460,
    "start_time": "2024-01-04T14:47:28.403Z"
   },
   {
    "duration": 21,
    "start_time": "2024-01-04T14:47:28.865Z"
   },
   {
    "duration": 15,
    "start_time": "2024-01-04T14:47:28.887Z"
   },
   {
    "duration": 10,
    "start_time": "2024-01-04T14:47:28.904Z"
   },
   {
    "duration": 34,
    "start_time": "2024-01-04T14:47:28.915Z"
   },
   {
    "duration": 3,
    "start_time": "2024-01-04T14:47:28.951Z"
   },
   {
    "duration": 30,
    "start_time": "2024-01-04T14:47:28.955Z"
   },
   {
    "duration": 3,
    "start_time": "2024-01-04T14:47:28.987Z"
   },
   {
    "duration": 6,
    "start_time": "2024-01-04T14:47:28.992Z"
   },
   {
    "duration": 4,
    "start_time": "2024-01-04T14:47:29.001Z"
   },
   {
    "duration": 40,
    "start_time": "2024-01-04T14:47:29.006Z"
   },
   {
    "duration": 11,
    "start_time": "2024-01-04T14:47:29.047Z"
   },
   {
    "duration": 4,
    "start_time": "2024-01-04T14:47:29.081Z"
   },
   {
    "duration": 13,
    "start_time": "2024-01-04T14:47:29.086Z"
   },
   {
    "duration": 19,
    "start_time": "2024-01-04T14:47:29.100Z"
   },
   {
    "duration": 16,
    "start_time": "2024-01-04T14:47:29.120Z"
   },
   {
    "duration": 3,
    "start_time": "2024-01-04T14:47:29.137Z"
   },
   {
    "duration": 40,
    "start_time": "2024-01-04T14:47:29.142Z"
   },
   {
    "duration": 6,
    "start_time": "2024-01-04T14:47:29.183Z"
   },
   {
    "duration": 3,
    "start_time": "2024-01-04T14:47:29.190Z"
   },
   {
    "duration": 11,
    "start_time": "2024-01-04T14:47:29.195Z"
   },
   {
    "duration": 18,
    "start_time": "2024-01-04T14:47:29.207Z"
   },
   {
    "duration": 19,
    "start_time": "2024-01-04T14:47:29.227Z"
   },
   {
    "duration": 45,
    "start_time": "2024-01-04T14:47:29.247Z"
   },
   {
    "duration": 20,
    "start_time": "2024-01-04T14:47:29.293Z"
   },
   {
    "duration": 19,
    "start_time": "2024-01-04T14:47:29.314Z"
   },
   {
    "duration": 59,
    "start_time": "2024-01-04T14:47:29.334Z"
   },
   {
    "duration": 373,
    "start_time": "2024-01-04T14:49:49.612Z"
   },
   {
    "duration": 78,
    "start_time": "2024-01-04T14:49:49.987Z"
   },
   {
    "duration": 21,
    "start_time": "2024-01-04T14:49:50.066Z"
   },
   {
    "duration": 15,
    "start_time": "2024-01-04T14:49:50.088Z"
   },
   {
    "duration": 9,
    "start_time": "2024-01-04T14:49:50.105Z"
   },
   {
    "duration": 34,
    "start_time": "2024-01-04T14:49:50.116Z"
   },
   {
    "duration": 3,
    "start_time": "2024-01-04T14:49:50.151Z"
   },
   {
    "duration": 27,
    "start_time": "2024-01-04T14:49:50.156Z"
   },
   {
    "duration": 5,
    "start_time": "2024-01-04T14:49:50.184Z"
   },
   {
    "duration": 11,
    "start_time": "2024-01-04T14:49:50.190Z"
   },
   {
    "duration": 10,
    "start_time": "2024-01-04T14:49:50.202Z"
   },
   {
    "duration": 36,
    "start_time": "2024-01-04T14:49:50.214Z"
   },
   {
    "duration": 31,
    "start_time": "2024-01-04T14:49:50.252Z"
   },
   {
    "duration": 3,
    "start_time": "2024-01-04T14:49:50.286Z"
   },
   {
    "duration": 12,
    "start_time": "2024-01-04T14:49:50.291Z"
   },
   {
    "duration": 21,
    "start_time": "2024-01-04T14:49:50.305Z"
   },
   {
    "duration": 18,
    "start_time": "2024-01-04T14:49:50.327Z"
   },
   {
    "duration": 4,
    "start_time": "2024-01-04T14:49:50.347Z"
   },
   {
    "duration": 11,
    "start_time": "2024-01-04T14:49:50.381Z"
   },
   {
    "duration": 15,
    "start_time": "2024-01-04T14:49:50.393Z"
   },
   {
    "duration": 3,
    "start_time": "2024-01-04T14:49:50.410Z"
   },
   {
    "duration": 9,
    "start_time": "2024-01-04T14:49:50.415Z"
   },
   {
    "duration": 24,
    "start_time": "2024-01-04T14:49:50.426Z"
   },
   {
    "duration": 36,
    "start_time": "2024-01-04T14:49:50.451Z"
   },
   {
    "duration": 19,
    "start_time": "2024-01-04T14:49:50.489Z"
   },
   {
    "duration": 18,
    "start_time": "2024-01-04T14:49:50.510Z"
   },
   {
    "duration": 17,
    "start_time": "2024-01-04T14:49:50.530Z"
   },
   {
    "duration": 66,
    "start_time": "2024-01-04T14:49:50.549Z"
   },
   {
    "duration": 74,
    "start_time": "2024-04-10T12:00:47.008Z"
   },
   {
    "duration": 421,
    "start_time": "2024-04-10T12:00:54.196Z"
   },
   {
    "duration": 258,
    "start_time": "2024-04-10T12:00:54.619Z"
   },
   {
    "duration": 23,
    "start_time": "2024-04-10T12:00:54.879Z"
   },
   {
    "duration": 25,
    "start_time": "2024-04-10T12:00:54.904Z"
   },
   {
    "duration": 38,
    "start_time": "2024-04-10T12:00:54.932Z"
   },
   {
    "duration": 72,
    "start_time": "2024-04-10T12:00:54.972Z"
   },
   {
    "duration": 4,
    "start_time": "2024-04-10T12:00:55.046Z"
   },
   {
    "duration": 36,
    "start_time": "2024-04-10T12:00:55.052Z"
   },
   {
    "duration": 5,
    "start_time": "2024-04-10T12:00:55.090Z"
   },
   {
    "duration": 9,
    "start_time": "2024-04-10T12:00:55.096Z"
   },
   {
    "duration": 19,
    "start_time": "2024-04-10T12:00:55.106Z"
   },
   {
    "duration": 69,
    "start_time": "2024-04-10T12:00:55.127Z"
   },
   {
    "duration": 12,
    "start_time": "2024-04-10T12:00:55.198Z"
   },
   {
    "duration": 4,
    "start_time": "2024-04-10T12:00:55.214Z"
   },
   {
    "duration": 38,
    "start_time": "2024-04-10T12:00:55.221Z"
   },
   {
    "duration": 38,
    "start_time": "2024-04-10T12:00:55.266Z"
   },
   {
    "duration": 48,
    "start_time": "2024-04-10T12:00:55.306Z"
   },
   {
    "duration": 9,
    "start_time": "2024-04-10T12:00:55.365Z"
   },
   {
    "duration": 23,
    "start_time": "2024-04-10T12:00:55.377Z"
   },
   {
    "duration": 7,
    "start_time": "2024-04-10T12:00:55.402Z"
   },
   {
    "duration": 4,
    "start_time": "2024-04-10T12:00:55.410Z"
   },
   {
    "duration": 14,
    "start_time": "2024-04-10T12:00:55.416Z"
   },
   {
    "duration": 44,
    "start_time": "2024-04-10T12:00:55.431Z"
   },
   {
    "duration": 29,
    "start_time": "2024-04-10T12:00:55.478Z"
   },
   {
    "duration": 20,
    "start_time": "2024-04-10T12:00:55.509Z"
   },
   {
    "duration": 44,
    "start_time": "2024-04-10T12:00:55.530Z"
   },
   {
    "duration": 21,
    "start_time": "2024-04-10T12:00:55.576Z"
   },
   {
    "duration": 43,
    "start_time": "2024-04-10T12:00:55.599Z"
   }
  ],
  "colab": {
   "provenance": []
  },
  "kernelspec": {
   "display_name": "Python 3 (ipykernel)",
   "language": "python",
   "name": "python3"
  },
  "language_info": {
   "codemirror_mode": {
    "name": "ipython",
    "version": 3
   },
   "file_extension": ".py",
   "mimetype": "text/x-python",
   "name": "python",
   "nbconvert_exporter": "python",
   "pygments_lexer": "ipython3",
   "version": "3.9.5"
  },
  "toc": {
   "base_numbering": 1,
   "nav_menu": {},
   "number_sections": false,
   "sideBar": true,
   "skip_h1_title": true,
   "title_cell": "Table of Contents",
   "title_sidebar": "Contents",
   "toc_cell": false,
   "toc_position": {
    "height": "calc(100% - 180px)",
    "left": "10px",
    "top": "150px",
    "width": "374.391px"
   },
   "toc_section_display": true,
   "toc_window_display": true
  }
 },
 "nbformat": 4,
 "nbformat_minor": 5
}
